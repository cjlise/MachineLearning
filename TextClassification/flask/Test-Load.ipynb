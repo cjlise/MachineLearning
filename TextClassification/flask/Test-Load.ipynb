{
 "cells": [
  {
   "cell_type": "code",
   "execution_count": 1,
   "metadata": {},
   "outputs": [],
   "source": [
    "import joblib\n",
    "import numpy as np\n",
    "import re\n",
    "#from sklearn.feature_extraction.text import TfidfVectorizer\n",
    "from tensorflow import keras\n",
    "import my_tokenizer\n",
    "from sklearn.preprocessing import LabelEncoder\n",
    "from sklearn.feature_extraction.text import CountVectorizer\n"
   ]
  },
  {
   "cell_type": "code",
   "execution_count": 73,
   "metadata": {},
   "outputs": [
    {
     "name": "stderr",
     "output_type": "stream",
     "text": [
      "D:\\Jose\\Anaconda\\envs\\flaskenv\\lib\\site-packages\\sklearn\\base.py:334: UserWarning: Trying to unpickle estimator LabelEncoder from version 0.22.2.post1 when using version 0.23.2. This might lead to breaking code or invalid results. Use at your own risk.\n",
      "  UserWarning)\n",
      "D:\\Jose\\Anaconda\\envs\\flaskenv\\lib\\site-packages\\sklearn\\base.py:334: UserWarning: Trying to unpickle estimator CountVectorizer from version 0.22.2.post1 when using version 0.23.2. This might lead to breaking code or invalid results. Use at your own risk.\n",
      "  UserWarning)\n"
     ]
    }
   ],
   "source": [
    "model = keras.models.load_model('pre_trained_glove_model_abilities.h5')\n",
    "title_encoder = joblib.load('TitleLabelEncoder.joblib')\n",
    "skills_vectorizer = joblib.load('SkillsVectorizer.joblib')\n",
    "desc_tokenizer = joblib.load('DescTokenizer.joblib')"
   ]
  },
  {
   "cell_type": "code",
   "execution_count": 4,
   "metadata": {},
   "outputs": [
    {
     "data": {
      "text/plain": [
       "sklearn.feature_extraction.text.CountVectorizer"
      ]
     },
     "execution_count": 4,
     "metadata": {},
     "output_type": "execute_result"
    }
   ],
   "source": [
    "type(skills_vectorizer)"
   ]
  },
  {
   "cell_type": "code",
   "execution_count": 74,
   "metadata": {},
   "outputs": [],
   "source": [
    "description = 'Purchase farm products either for further processing or resale. Includes tree farm contractors, grain brokers and market operators, grain buyers, and tobacco buyers.'"
   ]
  },
  {
   "cell_type": "code",
   "execution_count": 75,
   "metadata": {},
   "outputs": [],
   "source": [
    "description = re.sub('[^a-zA-Z]', ' ', description)\n",
    "description = description.lower()"
   ]
  },
  {
   "cell_type": "code",
   "execution_count": 76,
   "metadata": {},
   "outputs": [],
   "source": [
    "maxlen = 100\n",
    "desc_enc = desc_tokenizer.texts_to_sequences([description])\n",
    "desc_enc = keras.preprocessing.sequence.pad_sequences(desc_enc, maxlen=maxlen)"
   ]
  },
  {
   "cell_type": "code",
   "execution_count": 77,
   "metadata": {},
   "outputs": [],
   "source": [
    "answer = model.predict(desc_enc)\n",
    "# answer = 'Title :' + title_encoder.inverse_transform(answer[0]) + '\\n' + \\\n",
    "#          'Skills :' + skills_vectorizer.inverse_transform(answer[1])"
   ]
  },
  {
   "cell_type": "code",
   "execution_count": 78,
   "metadata": {},
   "outputs": [
    {
     "data": {
      "text/plain": [
       "array([[0.01496521, 0.01222205, 0.01003429, 0.01524237, 0.01285478,\n",
       "        0.02077004, 0.01676258, 0.01220974, 0.01698762, 0.01464465,\n",
       "        0.01600346, 0.01582226, 0.01405656, 0.01322252, 0.00960103,\n",
       "        0.01165915, 0.01537287, 0.00989288, 0.01346144, 0.0126012 ,\n",
       "        0.01260874, 0.01710242, 0.01662657, 0.01373038, 0.0117487 ,\n",
       "        0.01198968, 0.01500604, 0.0213607 , 0.01382369, 0.01369777,\n",
       "        0.01145583, 0.01086992, 0.01094386, 0.0094631 , 0.00833431,\n",
       "        0.012878  , 0.01179519, 0.00946772, 0.02030203, 0.01324314,\n",
       "        0.01259422, 0.01504439, 0.01150832, 0.01315221, 0.00877234,\n",
       "        0.01949373, 0.01573357, 0.01788813, 0.0124684 , 0.01291865,\n",
       "        0.0152005 , 0.01354069]], dtype=float32)"
      ]
     },
     "execution_count": 78,
     "metadata": {},
     "output_type": "execute_result"
    }
   ],
   "source": [
    "answer[1]"
   ]
  },
  {
   "cell_type": "code",
   "execution_count": 79,
   "metadata": {},
   "outputs": [
    {
     "data": {
      "text/plain": [
       "array(['Buyers and Purchasing Agents, Farm Products'], dtype=object)"
      ]
     },
     "execution_count": 79,
     "metadata": {},
     "output_type": "execute_result"
    }
   ],
   "source": [
    "title_encoder.inverse_transform(np.argmax(answer[0], axis=-1))"
   ]
  },
  {
   "cell_type": "code",
   "execution_count": 63,
   "metadata": {},
   "outputs": [
    {
     "data": {
      "text/plain": [
       "'arm-hand steadiness'"
      ]
     },
     "execution_count": 63,
     "metadata": {},
     "output_type": "execute_result"
    }
   ],
   "source": [
    "skills_vectorizer.inverse_transform(np.argmax(answer[1], axis=-1))[0][0]"
   ]
  },
  {
   "cell_type": "code",
   "execution_count": 60,
   "metadata": {},
   "outputs": [
    {
     "data": {
      "text/plain": [
       "[array(['arm-hand steadiness', 'auditory attention',\n",
       "        'category flexibility', 'control precision', 'deductive reasoning',\n",
       "        'depth perception', 'dynamic flexibility', 'dynamic strength',\n",
       "        'explosive strength', 'extent flexibility'], dtype='<U27')]"
      ]
     },
     "execution_count": 60,
     "metadata": {},
     "output_type": "execute_result"
    }
   ],
   "source": [
    "skills_vectorizer.inverse_transform(np.argsort(answer[1])[0][:10])"
   ]
  },
  {
   "cell_type": "code",
   "execution_count": 72,
   "metadata": {},
   "outputs": [
    {
     "data": {
      "text/plain": [
       "'arm-hand steadiness, auditory attention, category flexibility, control precision, deductive reasoning, depth perception, dynamic flexibility, dynamic strength, explosive strength, extent flexibility'"
      ]
     },
     "execution_count": 72,
     "metadata": {},
     "output_type": "execute_result"
    }
   ],
   "source": [
    "', '.join(skills_vectorizer.inverse_transform(np.argsort(answer[1])[0][:10])[0])"
   ]
  }
 ],
 "metadata": {
  "kernelspec": {
   "display_name": "Python 3",
   "language": "python",
   "name": "python3"
  },
  "language_info": {
   "codemirror_mode": {
    "name": "ipython",
    "version": 3
   },
   "file_extension": ".py",
   "mimetype": "text/x-python",
   "name": "python",
   "nbconvert_exporter": "python",
   "pygments_lexer": "ipython3",
   "version": "3.7.8"
  }
 },
 "nbformat": 4,
 "nbformat_minor": 4
}
