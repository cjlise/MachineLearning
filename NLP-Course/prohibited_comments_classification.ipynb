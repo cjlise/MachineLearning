{
 "cells": [
  {
   "cell_type": "markdown",
   "metadata": {},
   "source": [
    "### Prohibited Comment Classification \n",
    "\n",
    "![img](https://github.com/yandexdataschool/nlp_course/raw/master/resources/banhammer.jpg)\n",
    "\n",
    "This notebook is inspired by an exercise from the course [NLP Course | For You](https://lena-voita.github.io/nlp_course.html). </p>       \n",
    "__In this notebook__ you will build an algorithm that classifies social media comments into normal or toxic.\n",
    "Like in many real-world cases, you only have a small (10^3) dataset of hand-labeled examples to work with. We'll tackle this problem using both classical nlp methods and embedding-based approach."
   ]
  },
  {
   "cell_type": "code",
   "execution_count": 1,
   "metadata": {},
   "outputs": [],
   "source": [
    "import numpy as np\n",
    "import matplotlib.pyplot as plt\n",
    "%matplotlib inline"
   ]
  },
  {
   "cell_type": "code",
   "execution_count": 2,
   "metadata": {},
   "outputs": [
    {
     "data": {
      "text/html": [
       "<div>\n",
       "<style scoped>\n",
       "    .dataframe tbody tr th:only-of-type {\n",
       "        vertical-align: middle;\n",
       "    }\n",
       "\n",
       "    .dataframe tbody tr th {\n",
       "        vertical-align: top;\n",
       "    }\n",
       "\n",
       "    .dataframe thead th {\n",
       "        text-align: right;\n",
       "    }\n",
       "</style>\n",
       "<table border=\"1\" class=\"dataframe\">\n",
       "  <thead>\n",
       "    <tr style=\"text-align: right;\">\n",
       "      <th></th>\n",
       "      <th>should_ban</th>\n",
       "      <th>comment_text</th>\n",
       "    </tr>\n",
       "  </thead>\n",
       "  <tbody>\n",
       "    <tr>\n",
       "      <th>50</th>\n",
       "      <td>0</td>\n",
       "      <td>\"Those who're in advantageous positions are th...</td>\n",
       "    </tr>\n",
       "    <tr>\n",
       "      <th>250</th>\n",
       "      <td>1</td>\n",
       "      <td>Fartsalot56 says f**k you motherclucker!!</td>\n",
       "    </tr>\n",
       "    <tr>\n",
       "      <th>450</th>\n",
       "      <td>1</td>\n",
       "      <td>Are you a fool? \\n\\nI am sorry, but you seem t...</td>\n",
       "    </tr>\n",
       "    <tr>\n",
       "      <th>650</th>\n",
       "      <td>1</td>\n",
       "      <td>I AM NOT A VANDAL!!!!!!!!!!!!!!!!!!!!!!!!!!!!!!</td>\n",
       "    </tr>\n",
       "    <tr>\n",
       "      <th>850</th>\n",
       "      <td>0</td>\n",
       "      <td>Citing sources\\n\\nCheck out the Wikipedia:Citi...</td>\n",
       "    </tr>\n",
       "  </tbody>\n",
       "</table>\n",
       "</div>"
      ],
      "text/plain": [
       "     should_ban                                       comment_text\n",
       "50            0  \"Those who're in advantageous positions are th...\n",
       "250           1          Fartsalot56 says f**k you motherclucker!!\n",
       "450           1  Are you a fool? \\n\\nI am sorry, but you seem t...\n",
       "650           1    I AM NOT A VANDAL!!!!!!!!!!!!!!!!!!!!!!!!!!!!!!\n",
       "850           0  Citing sources\\n\\nCheck out the Wikipedia:Citi..."
      ]
     },
     "execution_count": 2,
     "metadata": {},
     "output_type": "execute_result"
    }
   ],
   "source": [
    "import pandas as pd\n",
    "data = pd.read_csv(\"comments.tsv\", sep='\\t')\n",
    "\n",
    "texts = data['comment_text'].values\n",
    "target = data['should_ban'].values\n",
    "data[50::200]"
   ]
  },
  {
   "cell_type": "code",
   "execution_count": 3,
   "metadata": {},
   "outputs": [],
   "source": [
    "from sklearn.model_selection import train_test_split\n",
    "texts_train, texts_test, y_train, y_test = train_test_split(texts, target, test_size=0.5, random_state=42)"
   ]
  },
  {
   "cell_type": "markdown",
   "metadata": {},
   "source": [
    "__Note:__ it is generally a good idea to split data into train/test before anything is done to them.\n",
    "\n",
    "It guards you against possible data leakage in the preprocessing stage. For example, should you decide to select words present in obscene tweets as features, you should only count those words over the training set. Otherwise your algoritm can cheat evaluation."
   ]
  },
  {
   "cell_type": "markdown",
   "metadata": {},
   "source": [
    "### Preprocessing and tokenization\n",
    "\n",
    "Comments contain raw text with punctuation, upper/lowercase letters and even newline symbols.\n",
    "\n",
    "To simplify all further steps, we'll split text into space-separated tokens using one of nltk tokenizers."
   ]
  },
  {
   "cell_type": "code",
   "execution_count": 4,
   "metadata": {},
   "outputs": [
    {
     "name": "stdout",
     "output_type": "stream",
     "text": [
      "before: How to be a grown-up at work: replace \"fuck you\" with \"Ok, great!\".\n",
      "after: how to be a grown-up at work : replace \" fuck you \" with \" ok , great ! \" .\n"
     ]
    }
   ],
   "source": [
    "from nltk.tokenize import TweetTokenizer\n",
    "tokenizer = TweetTokenizer()\n",
    "preprocess = lambda text: ' '.join(tokenizer.tokenize(text.lower()))\n",
    "\n",
    "text = 'How to be a grown-up at work: replace \"fuck you\" with \"Ok, great!\".'\n",
    "print(\"before:\", text,)\n",
    "print(\"after:\", preprocess(text),)"
   ]
  },
  {
   "cell_type": "code",
   "execution_count": 5,
   "metadata": {},
   "outputs": [
    {
     "data": {
      "text/plain": [
       "array(['... oh and what kind of person WATCHES another persons mytalk page? Stalker!',\n",
       "       \"Hey, you are preaching to the choir here, dude )  Remember this one?  I couldn't find anything solid about it at the time (except for that NTV gag report).  How tempting it must have been to assume the place is not notable beyond its funny name, eh?  Well, eat this!  The site itself is hardly a reliable source, but it's a very good illustration of what kind of information is available out there.  And every other shabby-Russian-village-population-five is going to have at least as much written about it over the years.  It's not that there are no sources, it's that there are often no easily accessible sources.  What that is so hard to understand to some is beyond me.—\\xa0•\\xa0(yo?); May\\xa019, 2010; 21:47 (UTC)\",\n",
       "       'DCANDETO SMELLS FUNNY! HE IS VERY MEAN!',\n",
       "       'suicides\\n\\njust looking at this article make me want to commit suicide.',\n",
       "       'Caps \\n\\nSeems like Demon Core should be capitalized'],\n",
       "      dtype=object)"
      ]
     },
     "execution_count": 5,
     "metadata": {},
     "output_type": "execute_result"
    }
   ],
   "source": [
    "texts_train[0::100]"
   ]
  },
  {
   "cell_type": "code",
   "execution_count": 6,
   "metadata": {},
   "outputs": [],
   "source": [
    "# task: preprocess each comment in train and test\n",
    "\n",
    "#np.apply_along_axis(preprocess, 0, texts_train)\n",
    "#texts_test = preprocess(texts_test)\n",
    "texts_train = np.vectorize(preprocess) (texts_train)\n",
    "texts_test =  np.vectorize(preprocess) (texts_test)"
   ]
  },
  {
   "cell_type": "code",
   "execution_count": 7,
   "metadata": {},
   "outputs": [
    {
     "data": {
      "text/plain": [
       "array(['... oh and what kind of person watches another persons mytalk page ? stalker !',\n",
       "       \"hey , you are preaching to the choir here , dude ) remember this one ? i couldn't find anything solid about it at the time ( except for that ntv gag report ) . how tempting it must have been to assume the place is not notable beyond its funny name , eh ? well , eat this ! the site itself is hardly a reliable source , but it's a very good illustration of what kind of information is available out there . and every other shabby-russian-village-population-five is going to have at least as much written about it over the years . it's not that there are no sources , it's that there are often no easily accessible sources . what that is so hard to understand to some is beyond me . — • ( yo ? ); may 19 , 2010 ; 21:47 ( utc )\",\n",
       "       'dcandeto smells funny ! he is very mean !',\n",
       "       'suicides just looking at this article make me want to commit suicide .',\n",
       "       'caps seems like demon core should be capitalized'], dtype='<U5384')"
      ]
     },
     "execution_count": 7,
     "metadata": {},
     "output_type": "execute_result"
    }
   ],
   "source": [
    "texts_train[0::100]"
   ]
  },
  {
   "cell_type": "code",
   "execution_count": 8,
   "metadata": {},
   "outputs": [],
   "source": [
    "assert texts_train[5] ==  'who cares anymore . they attack with impunity .'\n",
    "assert texts_test[89] == 'hey todds ! quick q ? why are you so gay'\n",
    "assert len(texts_test) == len(y_test)"
   ]
  },
  {
   "cell_type": "markdown",
   "metadata": {},
   "source": [
    "### Solving it: bag of words\n",
    "\n",
    "![img](http://www.novuslight.com/uploads/n/BagofWords.jpg)\n",
    "\n",
    "One traditional approach to such problem is to use bag of words features:\n",
    "1. build a vocabulary of frequent words (use train data only)\n",
    "2. for each training sample, count the number of times a word occurs in it (for each word in vocabulary).\n",
    "3. consider this count a feature for some classifier\n",
    "\n",
    "__Note:__ in practice, you can compute such features using sklearn. Please don't do that in the current assignment, though.\n",
    "* `from sklearn.feature_extraction.text import CountVectorizer, TfidfVectorizer`"
   ]
  },
  {
   "cell_type": "code",
   "execution_count": 9,
   "metadata": {},
   "outputs": [
    {
     "name": "stdout",
     "output_type": "stream",
     "text": [
      "example features: ['!', '12:20', '300', '_', 'adorned', 'alternative', 'archive', 'average', 'benkner', 'bout', 'came', 'chest', 'combined', 'consumers', 'cricket', 'decisions', 'dickheads', 'domestic', 'eductaion', 'essentially', 'faggot', 'firms', 'frustrated', 'goal', 'hanibal', 'hip-hop', 'identified', 'infoboxes', 'issue', 'kindergarten', 'lets', 'lot', \"mclaren's\", 'moderator', 'naturally', 'noticeable', 'opposing', 'pdf', 'plant', 'pretoria', 'punctuation', 'rebels', 'repetative', 'riadh', 'schulz', 'shes', 'slit', 'spoof', 'stupid', 't', 'theoretical', 'topic', 'uglyness', 'userspace', 'wanted', 'wikieditor', 'year', '←']\n"
     ]
    }
   ],
   "source": [
    "# task: find up to k most frequent tokens in texts_train,\n",
    "# sort them by number of occurences (highest first)\n",
    "k = 10000\n",
    "\n",
    "# Build vocabulary\n",
    "word2index = {}\n",
    "word2count = {}\n",
    "index2word = {}\n",
    "num_words = 0\n",
    "for t in texts_train: \n",
    "    #tok = tokenizer.tokenize(t)\n",
    "    tok = set(t.split())\n",
    "    for tk in tok: \n",
    "        if tk not in word2index:\n",
    "            word2index[tk] = num_words\n",
    "            word2count[tk] = 1\n",
    "            index2word[num_words] = tk           \n",
    "            num_words += 1\n",
    "        else:\n",
    "             word2count[tk] += 1\n",
    "\n",
    "word2count = dict(sorted(word2count.items(), key=lambda item: item[1], reverse = True) [:k])\n",
    "        \n",
    "bow_vocabulary = list(word2count.keys())\n",
    "\n",
    "print('example features:', sorted(bow_vocabulary)[::100])"
   ]
  },
  {
   "cell_type": "code",
   "execution_count": 10,
   "metadata": {},
   "outputs": [
    {
     "data": {
      "text/plain": [
       "5707"
      ]
     },
     "execution_count": 10,
     "metadata": {},
     "output_type": "execute_result"
    }
   ],
   "source": [
    "max_len = len(set(' '.join(texts_train).split()))\n",
    "max_len"
   ]
  },
  {
   "cell_type": "code",
   "execution_count": 13,
   "metadata": {},
   "outputs": [],
   "source": [
    "def text_to_bow(text):\n",
    "    \"\"\" convert text string to an array of token counts. Use bow_vocabulary. \"\"\"\n",
    "    #<YOUR CODE>\n",
    "#     tok = set(tokenizer.tokenize(text))\n",
    "    ltk = [0]* max_len\n",
    "    #print(len(ltk))\n",
    "    for tk in set(text.split()):\n",
    "        try:\n",
    "            #ltk.append(text.split().count(tk))\n",
    "            ltk[bow_vocabulary.index(tk)] = text.split().count(tk)\n",
    "        except ValueError:\n",
    "            #ltk.append(0)\n",
    "            #print ( tk + \" Not in Vocab\")\n",
    "            pass\n",
    "    \n",
    "    #max_len = 5000\n",
    "    #print(len(ltk))\n",
    "    #return np.array(np.lib.pad(ltk, (0, max_len - len(ltk)), 'constant', constant_values=0), 'float32')\n",
    "    #print ( max_len)\n",
    "    return np.array(ltk, 'float32')"
   ]
  },
  {
   "cell_type": "code",
   "execution_count": 14,
   "metadata": {},
   "outputs": [
    {
     "data": {
      "text/plain": [
       "array([[ 0.,  0.,  0., ...,  0.,  0.,  0.],\n",
       "       [ 9.,  3.,  6., ...,  0.,  0.,  0.],\n",
       "       [ 1.,  0.,  1., ...,  0.,  0.,  0.],\n",
       "       ...,\n",
       "       [ 4.,  5.,  4., ...,  0.,  0.,  0.],\n",
       "       [35., 35.,  0., ..., 35.,  0.,  0.],\n",
       "       [ 2.,  1.,  0., ...,  0.,  1.,  1.]], dtype=float32)"
      ]
     },
     "execution_count": 14,
     "metadata": {},
     "output_type": "execute_result"
    }
   ],
   "source": [
    "np.stack(list(map(text_to_bow, texts_train)))"
   ]
  },
  {
   "cell_type": "code",
   "execution_count": 61,
   "metadata": {},
   "outputs": [],
   "source": [
    "X_train_bow = np.stack(list(map(text_to_bow, texts_train)))\n",
    "X_test_bow = np.stack(list(map(text_to_bow, texts_test)))"
   ]
  },
  {
   "cell_type": "code",
   "execution_count": 16,
   "metadata": {},
   "outputs": [
    {
     "data": {
      "text/plain": [
       "array([  9., 202.,  15.,  51.,  41.], dtype=float32)"
      ]
     },
     "execution_count": 16,
     "metadata": {},
     "output_type": "execute_result"
    }
   ],
   "source": [
    "X_train_bow[5:10].sum(-1)"
   ]
  },
  {
   "cell_type": "code",
   "execution_count": 17,
   "metadata": {},
   "outputs": [
    {
     "data": {
      "text/plain": [
       "[9, 202, 15, 51, 41]"
      ]
     },
     "execution_count": 17,
     "metadata": {},
     "output_type": "execute_result"
    }
   ],
   "source": [
    "[len(s.split()) for s in  texts_train[5:10]]"
   ]
  },
  {
   "cell_type": "code",
   "execution_count": 18,
   "metadata": {},
   "outputs": [
    {
     "data": {
      "text/plain": [
       "'\" alright , i am willing to concede that the cia allegations are flimsy at best , therefore , i will stop the edit warring . while you may not consider it too important , i think the issue of assange as the founder to be another example of lazy journalism . your source for assange as founder of wikleaks was msnbc.com . i don\\'t necessarily consider msnbc to be a reliable source most of the time . corporate news does not do \" \" real \" \" journalism . they copy news from one source or they make stories up . it seems to me that the idea of assange as founder is a meme . i have never read a quote from assange whereby he states that he founded wikileaks . this idea seems to be mostly promulgated by the u . s . corporate media . perhaps to vilify him in the minds of americans , so that later he can be lynched . this seems like propaganda 101 to me . the wikileaks site does not identify assange as the founder . where is the evidence ? thc loadee 04:08 , 4 march 2011 ( utc ) \"'"
      ]
     },
     "execution_count": 18,
     "metadata": {},
     "output_type": "execute_result"
    }
   ],
   "source": [
    "texts_train[6]"
   ]
  },
  {
   "cell_type": "code",
   "execution_count": 21,
   "metadata": {},
   "outputs": [
    {
     "data": {
      "text/plain": [
       "5707"
      ]
     },
     "execution_count": 21,
     "metadata": {},
     "output_type": "execute_result"
    }
   ],
   "source": [
    "len(bow_vocabulary)"
   ]
  },
  {
   "cell_type": "code",
   "execution_count": 24,
   "metadata": {},
   "outputs": [],
   "source": [
    "k_max = len(set(' '.join(texts_train).split()))\n",
    "assert X_train_bow.shape == (len(texts_train), min(k, k_max))\n",
    "assert X_test_bow.shape == (len(texts_test), min(k, k_max))\n",
    "assert np.all(X_train_bow[5:10].sum(-1) == np.array([len(s.split()) for s in  texts_train[5:10]]))\n",
    "assert len(bow_vocabulary) <= min(k, k_max)\n",
    "assert X_train_bow[6, bow_vocabulary.index('.')] == texts_train[6].split().count('.')"
   ]
  },
  {
   "cell_type": "markdown",
   "metadata": {},
   "source": [
    "#### Naive bayes\n",
    "__Naive bayes:__ perhaps the simplest model that can solve your problem is the so called Naive Bayes Classifier. \n",
    "Its a trivial linear model that assumes the independence of input features and computes the coefficients by, well, counting probabilities.\n",
    "\n",
    "If you don't remember the math behind Naive Bayes, read [this chunk](https://lena-voita.github.io/nlp_course/text_classification.html#naive_bayes) to help refresh your memory. Done? Good! Now let's implement that :)"
   ]
  },
  {
   "cell_type": "code",
   "execution_count": 27,
   "metadata": {},
   "outputs": [],
   "source": [
    "class BinaryNaiveBayes:\n",
    "    delta = 1.0  # add this to all word counts to smoothe probabilities\n",
    "    \n",
    "    def fit(self, X, y):\n",
    "        \"\"\"\n",
    "        Fit a NaiveBayes classifier for two classes\n",
    "        :param X: [batch_size, vocab_size] of bag-of-words features\n",
    "        :param y: [batch_size] of binary targets {0, 1}\n",
    "        \"\"\"\n",
    "        # first, compute marginal probabilities of every class, p(y=k) for k = 0,1\n",
    "        #self.p_y = np.array(<YOUR CODE: probability of y=0 and of y=1 in that order>)\n",
    "        self.p_y = np.array([(y == 0).sum()/((y == 0).sum() + (y== 1).sum()), (y == 1).sum()/((y == 0).sum() + (y== 1).sum())])\n",
    "        \n",
    "        # count occurences of each word in texts with label 0 and label 1 separately\n",
    "        word_counts_positive = X[ y == 0].sum(axis=0)\n",
    "        word_counts_negative = X[ y == 1].sum(axis=0)\n",
    "        # ^-- both must be vectors of shape [vocab_size].\n",
    "        \n",
    "        # finally, lets use those counts to estimate p(x | y = k) for k = 0, 1\n",
    "        \n",
    "        #<YOUR CODE HERE>\n",
    "        self.p_x_given_positive = (word_counts_positive + self.delta) / (word_counts_positive.sum() + self.delta * len(X[0]))\n",
    "        self.p_x_given_negative = (word_counts_negative + self.delta )/ (word_counts_negative.sum() + self.delta * len(X[0]))\n",
    "\n",
    "        # both must be of shape [vocab_size]; and don't forget to add self.delta!\n",
    "        \n",
    "        return self\n",
    "    \n",
    "    def predict_scores(self, X):\n",
    "        \"\"\"\n",
    "        :param X: [batch_size, vocab_size] of bag-of-words features\n",
    "        :returns: a matrix of scores [batch_size, k] of scores for k-th class\n",
    "        \"\"\"\n",
    "        # compute scores for positive and negative classes separately.\n",
    "        # these scores should be proportional to log-probabilities of the respective target {0, 1}\n",
    "        # note: if you apply logarithm to p_x_given_*, the total log-probability can be written\n",
    "        # as a dot-product with X\n",
    "        #score_negative = <YOUR CODE HERE - compute unnormalized negative log-probability>\n",
    "        score_negative = np.dot(X, np.log(self.p_x_given_negative))\n",
    "        score_positive = np.dot(X, np.log(self.p_x_given_positive))\n",
    "        \n",
    "        # you can compute total p(x | y=k) with a dot product\n",
    "        #return np.stack([score_negative, score_positive], axis=-1)\n",
    "        return np.stack([score_positive, score_negative], axis=-1)\n",
    "    \n",
    "    def predict(self, X):\n",
    "        return self.predict_scores(X).argmax(axis=-1)"
   ]
  },
  {
   "cell_type": "code",
   "execution_count": 28,
   "metadata": {},
   "outputs": [],
   "source": [
    "naive_model = BinaryNaiveBayes().fit(X_train_bow, y_train)"
   ]
  },
  {
   "cell_type": "code",
   "execution_count": 30,
   "metadata": {},
   "outputs": [
    {
     "data": {
      "text/plain": [
       "1.0"
      ]
     },
     "execution_count": 30,
     "metadata": {},
     "output_type": "execute_result"
    }
   ],
   "source": [
    "naive_model.p_x_given_negative.sum()\n",
    "#np.allclose()"
   ]
  },
  {
   "cell_type": "code",
   "execution_count": 34,
   "metadata": {},
   "outputs": [],
   "source": [
    "assert naive_model.p_y.shape == (2,) and naive_model.p_y.sum() == 1 and naive_model.p_y[0] > naive_model.p_y[1]\n",
    "assert naive_model.p_x_given_positive.shape == naive_model.p_x_given_negative.shape == X_train_bow.shape[1:]\n",
    "assert np.allclose(naive_model.p_x_given_positive.sum(), 1.0)\n",
    "assert np.allclose(naive_model.p_x_given_negative.sum(), 1.0)\n",
    "assert naive_model.p_x_given_negative.min() > 0, \"did you forget to add delta?\"\n",
    "\n",
    "f_index = bow_vocabulary.index('fuck')  # offensive tweets should contain more of this\n",
    "assert naive_model.p_x_given_positive[f_index] < naive_model.p_x_given_negative[f_index]\n",
    "\n",
    "g_index = bow_vocabulary.index('good')  # offensive tweets should contain less of this\n",
    "assert naive_model.p_x_given_positive[g_index] > naive_model.p_x_given_negative[g_index]"
   ]
  },
  {
   "cell_type": "code",
   "execution_count": 35,
   "metadata": {},
   "outputs": [
    {
     "data": {
      "text/plain": [
       "3.427592e-05"
      ]
     },
     "execution_count": 35,
     "metadata": {},
     "output_type": "execute_result"
    }
   ],
   "source": [
    "naive_model.p_x_given_positive[f_index]"
   ]
  },
  {
   "cell_type": "code",
   "execution_count": 36,
   "metadata": {},
   "outputs": [
    {
     "data": {
      "text/plain": [
       "0.0018433952"
      ]
     },
     "execution_count": 36,
     "metadata": {},
     "output_type": "execute_result"
    }
   ],
   "source": [
    "naive_model.p_x_given_negative[f_index]"
   ]
  },
  {
   "cell_type": "code",
   "execution_count": 37,
   "metadata": {},
   "outputs": [
    {
     "name": "stdout",
     "output_type": "stream",
     "text": [
      "Model accuracy: 0.756\n",
      "Well done!\n"
     ]
    },
    {
     "data": {
      "image/png": "[encoded data removed]",
      "text/plain": [
       "<Figure size 432x288 with 1 Axes>"
      ]
     },
     "metadata": {
      "needs_background": "light"
     },
     "output_type": "display_data"
    }
   ],
   "source": [
    "from sklearn.metrics import roc_auc_score, roc_curve\n",
    "\n",
    "for name, X, y, model in [\n",
    "    ('train', X_train_bow, y_train, naive_model),\n",
    "    ('test ', X_test_bow, y_test, naive_model)\n",
    "]:\n",
    "    proba = model.predict_scores(X)[:, 1] - model.predict_scores(X)[:, 0]\n",
    "    auc = roc_auc_score(y, proba)\n",
    "    plt.plot(*roc_curve(y, proba)[:2], label='%s AUC=%.4f' % (name, auc))\n",
    "\n",
    "plt.plot([0, 1], [0, 1], '--', color='black',)\n",
    "plt.legend(fontsize='large')\n",
    "plt.grid()\n",
    "\n",
    "test_accuracy = np.mean(naive_model.predict(X_test_bow) == y_test)\n",
    "print(f\"Model accuracy: {test_accuracy:.3f}\")\n",
    "assert test_accuracy > 0.75, \"Accuracy too low. There's likely a mistake in the code.\"\n",
    "print(\"Well done!\")"
   ]
  },
  {
   "cell_type": "markdown",
   "metadata": {},
   "source": [
    "Okay, it definitely learned *something*. Now let's figure out what exactly it learned. The simplest way to do that is by highlighting which words have a greatest ratio of positive to negative probability or vice versa. We'll go with the negative one [because reasons](https://www.urbandictionary.com/define.php?term=because%20reasons).\n",
    "\n",
    "__Your task__ is to compute top-25 words that have the __highest__ ratio of ${p(x_i | y=1)} \\over {p(x_i | y=0)}$. Enjoy!"
   ]
  },
  {
   "cell_type": "code",
   "execution_count": 38,
   "metadata": {},
   "outputs": [
    {
     "name": "stdout",
     "output_type": "stream",
     "text": [
      "#0\t    hitler\t(ratio=475.47344970703125)\n",
      "#1\t      heil\t(ratio=471.8065185546875)\n",
      "#2\t   offfuck\t(ratio=441.2491149902344)\n",
      "#3\t      suck\t(ratio=314.7414245605469)\n",
      "#4\t    nigger\t(ratio=223.6802978515625)\n",
      "#5\t j.delanoy\t(ratio=220.01341247558594)\n",
      "#6\t      dick\t(ratio=187.0113983154297)\n",
      "#7\t      fggt\t(ratio=97.78373718261719)\n",
      "#8\t     bitch\t(ratio=59.89254379272461)\n",
      "#9\t      fuck\t(ratio=53.78105545043945)\n",
      "#10\t      shit\t(ratio=44.002681732177734)\n",
      "#11\t      slap\t(ratio=44.002681732177734)\n",
      "#12\t   fucking\t(ratio=31.779714584350586)\n",
      "#13\t       ass\t(ratio=26.890527725219727)\n",
      "#14\t    stupid\t(ratio=18.33445167541504)\n",
      "#15\t         =\t(ratio=17.53995704650879)\n",
      "#16\t   college\t(ratio=17.11215591430664)\n",
      "#17\t         *\t(ratio=17.11215591430664)\n",
      "#18\t   asshole\t(ratio=15.889857292175293)\n",
      "#19\t         u\t(ratio=15.278709411621094)\n",
      "#20\t   bastard\t(ratio=14.667561531066895)\n",
      "#21\t       hit\t(ratio=14.667561531066895)\n",
      "#22\t     idiot\t(ratio=13.445263862609863)\n",
      "#23\t         @\t(ratio=13.445263862609863)\n",
      "#24\t beautiful\t(ratio=12.222967147827148)\n"
     ]
    }
   ],
   "source": [
    "# hint: use naive_model.p_*\n",
    "#probability_ratio = <YOUR CODE: compute the ratio as defined above, must be a vector of [vocab_size]>\n",
    "probability_ratio = naive_model.p_x_given_negative/naive_model.p_x_given_positive\n",
    "#top_negative_words = <YOUR CODE: find 25 words with highest probability_ratio, return list of str>\n",
    "# We have to use the list slicing [:-26:-1] to get the 25 highest values as argsort sorts from lower to higher\n",
    "top_negative_words = [bow_vocabulary[s] for s in (probability_ratio).argsort()[:-26:-1].tolist()]\n",
    "\n",
    "assert len(top_negative_words) == 25 and [isinstance(w, str) for w in top_negative_words]\n",
    "assert 'j.delanoy' in top_negative_words and 'college' in top_negative_words\n",
    "\n",
    "for i, word in enumerate(top_negative_words):\n",
    "    print(f\"#{i}\\t{word.rjust(10, ' ')}\\t(ratio={probability_ratio[bow_vocabulary.index(word)]})\")"
   ]
  },
  {
   "cell_type": "markdown",
   "metadata": {},
   "source": [
    "#### Logistic Regression\n",
    "Now lets try something less prehistoric: __Logistic Regression__. Turns out, if you're using silicon instead of an abacus, you can find model weights by optimizing the log-probability of the answer. Though, of course, you don't even need to write it by hand anymore. Let's sklearn it!"
   ]
  },
  {
   "cell_type": "code",
   "execution_count": 39,
   "metadata": {},
   "outputs": [
    {
     "data": {
      "text/plain": [
       "LogisticRegression(C=0.2)"
      ]
     },
     "execution_count": 39,
     "metadata": {},
     "output_type": "execute_result"
    }
   ],
   "source": [
    "from sklearn.linear_model import LogisticRegression\n",
    "bow_model = LogisticRegression(C = 0.2)\n",
    "bow_model.fit(X_train_bow, y_train)"
   ]
  },
  {
   "cell_type": "code",
   "execution_count": 40,
   "metadata": {},
   "outputs": [
    {
     "name": "stdout",
     "output_type": "stream",
     "text": [
      "Model accuracy: 0.772\n",
      "Well done!\n"
     ]
    },
    {
     "data": {
      "image/png": "[encoded data removed]",
      "text/plain": [
       "<Figure size 432x288 with 1 Axes>"
      ]
     },
     "metadata": {
      "needs_background": "light"
     },
     "output_type": "display_data"
    }
   ],
   "source": [
    "from sklearn.metrics import roc_auc_score, roc_curve\n",
    "\n",
    "for name, X, y, model in [\n",
    "    ('train', X_train_bow, y_train, bow_model),\n",
    "    ('test ', X_test_bow, y_test, bow_model)\n",
    "]:\n",
    "    proba = model.predict_proba(X)[:, 1]\n",
    "    auc = roc_auc_score(y, proba)\n",
    "    plt.plot(*roc_curve(y, proba)[:2], label='%s AUC=%.4f' % (name, auc))\n",
    "\n",
    "plt.plot([0, 1], [0, 1], '--', color='black',)\n",
    "plt.legend(fontsize='large')\n",
    "plt.grid()\n",
    "\n",
    "test_accuracy = np.mean(bow_model.predict(X_test_bow) == y_test)\n",
    "print(f\"Model accuracy: {test_accuracy:.3f}\")\n",
    "assert test_accuracy > 0.77, \"Hint: tune the parameter C to improve performance\"\n",
    "print(\"Well done!\")"
   ]
  },
  {
   "cell_type": "markdown",
   "metadata": {},
   "source": [
    "### Task: implement TF-IDF features\n",
    "\n",
    "Not all words are equally useful. One can prioritize rare words and downscale words like \"and\"/\"or\" by using __tf-idf features__. This abbreviation stands for __text frequency/inverse document frequence__ and means exactly that:\n",
    "\n",
    "$$ feature_i = { Count(word_i \\in x) \\times { log {N \\over Count(word_i \\in D) + \\alpha} }} $$\n",
    "\n",
    "\n",
    ", where x is a single text, D is your dataset (a collection of texts), N is a total number of documents and $\\alpha$ is a smoothing hyperparameter (typically 1). \n",
    "And $Count(word_i \\in D)$ is the number of documents where $word_i$ appears.\n",
    "\n",
    "It may also be a good idea to normalize each data sample after computing tf-idf features.\n",
    "\n",
    "__Your task:__ implement tf-idf features, train a model and evaluate ROC curve. Compare it with basic BagOfWords model from above.\n",
    "\n",
    "Please don't use sklearn/nltk builtin tf-idf vectorizers in your solution :) You can still use 'em for debugging though."
   ]
  },
  {
   "cell_type": "code",
   "execution_count": 148,
   "metadata": {},
   "outputs": [
    {
     "data": {
      "text/plain": [
       "500"
      ]
     },
     "execution_count": 148,
     "metadata": {},
     "output_type": "execute_result"
    }
   ],
   "source": [
    "n_train = len(texts_train)\n",
    "n_train"
   ]
  },
  {
   "cell_type": "code",
   "execution_count": 155,
   "metadata": {},
   "outputs": [],
   "source": [
    "def text_to_tfidf(text):\n",
    "    \"\"\" convert text string to an array of token counts. Use bow_vocabulary. \"\"\"\n",
    "    #<YOUR CODE>\n",
    "#     tok = set(tokenizer.tokenize(text))\n",
    "    lalpha = 1.0\n",
    "    ltk = [0]* max_len\n",
    "    #print(len(ltk))\n",
    "    for tk in set(text.split()):\n",
    "        try:\n",
    "            #ltk.append(text.split().count(tk))\n",
    "            if (bow_vocabulary.index(tk) != -1): \n",
    "                ltk[bow_vocabulary.index(tk)] = text.split().count(tk)*np.log(n_train/(word2count[tk] + lalpha))\n",
    "            \n",
    "        except ValueError:\n",
    "            #ltk.append(0)\n",
    "            #print ( tk + \" Not in Vocab\")\n",
    "            pass\n",
    "    \n",
    "    #max_len = 5000\n",
    "    #print(len(ltk))\n",
    "    #return np.array(np.lib.pad(ltk, (0, max_len - len(ltk)), 'constant', constant_values=0), 'float32')\n",
    "    #print ( max_len)\n",
    "    return np.array(ltk, 'float32')"
   ]
  },
  {
   "cell_type": "code",
   "execution_count": 156,
   "metadata": {},
   "outputs": [
    {
     "data": {
      "text/plain": [
       "array([[  0.        ,   0.        ,   0.        , ...,   0.        ,\n",
       "          0.        ,   0.        ],\n",
       "       [  2.3522828 ,   1.6238545 ,   3.2890885 , ...,   0.        ,\n",
       "          0.        ,   0.        ],\n",
       "       [  0.26136476,   0.        ,   0.5481814 , ...,   0.        ,\n",
       "          0.        ,   0.        ],\n",
       "       ...,\n",
       "       [  1.045459  ,   2.7064242 ,   2.1927257 , ...,   0.        ,\n",
       "          0.        ,   0.        ],\n",
       "       [  9.147767  ,  18.94497   ,   0.        , ..., 193.25113   ,\n",
       "          0.        ,   0.        ],\n",
       "       [  0.5227295 ,   0.54128486,   0.        , ...,   0.        ,\n",
       "          5.521461  ,   5.521461  ]], dtype=float32)"
      ]
     },
     "execution_count": 156,
     "metadata": {},
     "output_type": "execute_result"
    }
   ],
   "source": [
    "np.stack(list(map(text_to_tfidf, texts_train)))"
   ]
  },
  {
   "cell_type": "code",
   "execution_count": 194,
   "metadata": {},
   "outputs": [],
   "source": [
    "X_train_tfidf = np.stack(list(map(text_to_tfidf, texts_train)))\n",
    "X_test_tfidf = np.stack(list(map(text_to_tfidf, texts_test)))"
   ]
  },
  {
   "cell_type": "code",
   "execution_count": 195,
   "metadata": {},
   "outputs": [
    {
     "data": {
      "text/plain": [
       "array([[  0.        ,   0.        ,   0.        , ...,   0.        ,\n",
       "          0.        ,   0.        ],\n",
       "       [  2.3522828 ,   1.6238545 ,   3.2890885 , ...,   0.        ,\n",
       "          0.        ,   0.        ],\n",
       "       [  0.26136476,   0.        ,   0.5481814 , ...,   0.        ,\n",
       "          0.        ,   0.        ],\n",
       "       ...,\n",
       "       [  1.045459  ,   2.7064242 ,   2.1927257 , ...,   0.        ,\n",
       "          0.        ,   0.        ],\n",
       "       [  9.147767  ,  18.94497   ,   0.        , ..., 193.25113   ,\n",
       "          0.        ,   0.        ],\n",
       "       [  0.5227295 ,   0.54128486,   0.        , ...,   0.        ,\n",
       "          5.521461  ,   5.521461  ]], dtype=float32)"
      ]
     },
     "execution_count": 195,
     "metadata": {},
     "output_type": "execute_result"
    }
   ],
   "source": [
    "X_train_tfidf\n",
    "#word2count['user_talk']\n",
    "#bow_vocabulary.index('user_talk')"
   ]
  },
  {
   "cell_type": "code",
   "execution_count": 196,
   "metadata": {},
   "outputs": [],
   "source": [
    "# Normalization \n",
    "#from sklearn.preprocessing import StandardScaler\n",
    "from sklearn.preprocessing import Normalizer\n",
    "# define standard scaler\n",
    "normalizer = Normalizer()\n",
    "# transform data\n",
    "X_train_tfidf = normalizer.fit_transform(X_train_tfidf)\n",
    "X_test_tfidf = normalizer.transform(X_test_tfidf)"
   ]
  },
  {
   "cell_type": "code",
   "execution_count": 197,
   "metadata": {},
   "outputs": [
    {
     "data": {
      "text/plain": [
       "array([[0.        , 0.        , 0.        , ..., 0.        , 0.        ,\n",
       "        0.        ],\n",
       "       [0.05254224, 0.03627155, 0.07346739, ..., 0.        , 0.        ,\n",
       "        0.        ],\n",
       "       [0.01808556, 0.        , 0.0379323 , ..., 0.        , 0.        ,\n",
       "        0.        ],\n",
       "       ...,\n",
       "       [0.0318519 , 0.08245636, 0.06680556, ..., 0.        , 0.        ,\n",
       "        0.        ],\n",
       "       [0.02466113, 0.05107304, 0.        , ..., 0.52097857, 0.        ,\n",
       "        0.        ],\n",
       "       [0.03155504, 0.03267515, 0.        , ..., 0.        , 0.33330798,\n",
       "        0.33330798]], dtype=float32)"
      ]
     },
     "execution_count": 197,
     "metadata": {},
     "output_type": "execute_result"
    }
   ],
   "source": [
    "X_train_tfidf"
   ]
  },
  {
   "cell_type": "code",
   "execution_count": 198,
   "metadata": {},
   "outputs": [
    {
     "data": {
      "text/plain": [
       "LogisticRegression(C=5.0)"
      ]
     },
     "execution_count": 198,
     "metadata": {},
     "output_type": "execute_result"
    }
   ],
   "source": [
    "tfidf_model = LogisticRegression(C=5.0)\n",
    "tfidf_model.fit(X_train_tfidf, y_train)"
   ]
  },
  {
   "cell_type": "code",
   "execution_count": 199,
   "metadata": {},
   "outputs": [
    {
     "name": "stdout",
     "output_type": "stream",
     "text": [
      "Bow Model accuracy: 0.772\n",
      "tfidf Model accuracy: 0.798\n",
      "Well done!\n"
     ]
    },
    {
     "data": {
      "image/png": "[encoded data removed]",
      "text/plain": [
       "<Figure size 432x288 with 1 Axes>"
      ]
     },
     "metadata": {
      "needs_background": "light"
     },
     "output_type": "display_data"
    }
   ],
   "source": [
    "for name, X, y, model in [\n",
    "    ('train_bow', X_train_bow, y_train, bow_model),\n",
    "    ('test_bow ', X_test_bow, y_test, bow_model),\n",
    "    ('train_tfidf', X_train_tfidf, y_train, tfidf_model),\n",
    "    ('test_tfidf', X_test_tfidf, y_test, tfidf_model)\n",
    "]:\n",
    "    proba = model.predict_proba(X)[:, 1]\n",
    "    auc = roc_auc_score(y, proba)\n",
    "    plt.plot(*roc_curve(y, proba)[:2], label='%s AUC=%.4f' % (name, auc))\n",
    "\n",
    "plt.plot([0, 1], [0, 1], '--', color='black',)\n",
    "plt.legend(fontsize='large')\n",
    "plt.grid()\n",
    "\n",
    "bow_test_accuracy = np.mean(bow_model.predict(X_test_bow) == y_test)\n",
    "tfidf_test_accuracy = np.mean(tfidf_model.predict(X_test_tfidf) == y_test)\n",
    "print(f\"Bow Model accuracy: {bow_test_accuracy:.3f}\")\n",
    "print(f\"tfidf Model accuracy: {tfidf_test_accuracy:.3f}\")\n",
    "#assert test_accuracy > 0.77, \"Hint: tune the parameter C to improve performance\"\n",
    "print(\"Well done!\")"
   ]
  },
  {
   "cell_type": "markdown",
   "metadata": {},
   "source": [
    "We notice that the model with the tfidf features is more accurate than the model with bow features:    \n",
    "* Acurracy of 0.798 compared to 0.772\n",
    "* AUC of 0.8805 compared to 0.8376 on the test set\n",
    "\n",
    "Let's check that we have the same kind of result with the sklearn TfidfVectorizer\n"
   ]
  },
  {
   "cell_type": "code",
   "execution_count": 200,
   "metadata": {},
   "outputs": [],
   "source": [
    "# Import the TfidfVectorizer \n",
    "from sklearn.feature_extraction.text import TfidfVectorizer"
   ]
  },
  {
   "cell_type": "code",
   "execution_count": 201,
   "metadata": {},
   "outputs": [],
   "source": [
    "vect = TfidfVectorizer(max_features=6000).fit(texts_train) \n",
    "X_train_sk_tfidf= vect.transform(texts_train) \n",
    "X_test_sk_tfidf= vect.transform(texts_test)"
   ]
  },
  {
   "cell_type": "code",
   "execution_count": 202,
   "metadata": {},
   "outputs": [
    {
     "data": {
      "text/plain": [
       "(500, 5486)"
      ]
     },
     "execution_count": 202,
     "metadata": {},
     "output_type": "execute_result"
    }
   ],
   "source": [
    "X_train_sk_tfidf.toarray().shape"
   ]
  },
  {
   "cell_type": "code",
   "execution_count": 203,
   "metadata": {},
   "outputs": [
    {
     "name": "stdout",
     "output_type": "stream",
     "text": [
      "['00', '000', '000000', '000428', '006', '01', '01rius', '03', '04', '05', '06', '07', '08', '084080', '09', '0px', '10', '100', '1000', '100s', '101', '105', '11', '117', '119', '11th', '12', '121', '122', '123', '124', '127', '128', '12th', '13', '13000', '131', '134', '135', '13500', '136', '137', '14', '141', '142', '1420', '144', '146', '147', '15', '153', '1539', '154', '15th', '16', '162', '163', '164', '169', '17', '170', '171', '173', '176', '1777mev', '179', '18', '182', '184', '1890', '19', '190', '19000', '1920', '193', '1950s', '1960', '1972', '1983', '1990', '1991', '1994', '1997', '19th', '1px', '1st', '20', '200', '2001', '2002', '2005', '2006', '2007', '2008', '2009', '2009051010', '2010', '2011', '2012', '2014', '202', '205', '206', '20th', '21', '211', '214', '217', '21st', '22', '221', '223', '224', '226', '227', '22country', '23', '230', '232', '233', '235', '238', '24', '240', '242', '246', '249', '25', '26', '27', '28', '28or_k', '29', '29_the_computer_kilo', '2k15', '30', '300', '30th', '31', '310', '32', '33', '3332', '34', '35', '35000', '36', '3609', '377', '38', '39', '3rd', '3rr', '40', '41', '41498', '429', '43', '430', '442', '45', '47', '4701', '48', '49', '4ever', '50', '51', '52', '523', '53', '54', '55', '555', '56', '57', '58', '59', '63', '67', '68', '69', '70', '700', '7094', '71', '72', '74', '75', '76', '77', '78', '80', '800', '8090', '81', '82', '82217351', '82219445', '85', '86', '88', '8p', '90', '900', '911you', '92', '94', '97', '98', '99', '__', '___', '_for_ancient_computers', '_not_using_bytes', '_prefix_', 'aaron', 'aars', 'abilities', 'ability', 'abit', 'abject', 'able', 'abnormal', 'about', 'about_wwf', 'above', 'absence', 'absently', 'absolute', 'absolutely', 'abstain', 'abstract', 'absurd', 'abuse', 'abused', 'abuses', 'abusing', 'abusive', 'accept', 'acceptable', 'accepted', 'access', 'accessed', 'accessible', 'accession', 'accidental', 'accolades', 'accompanied', 'accord', 'accordance', 'according', 'accordingly', 'account', 'accounts', 'accusation', 'accuse', 'accused', 'accusing', 'achieve', 'achof', 'acknowledge', 'acknowledgement', 'acquire', 'across', 'acrs', 'act', 'acted', 'acting', 'action', 'actions', 'active', 'activities', 'activity', 'acts', 'actual', 'actually', 'actualy', 'ad', 'adam', 'adamant', 'adams', 'add', 'added', 'addicted', 'adding', 'addition', 'additional', 'additionally', 'address', 'addressed', 'adequate', 'adhered', 'adjust', 'admin', 'administrate', 'administrates', 'administration', 'administrative', 'administrator']\n"
     ]
    }
   ],
   "source": [
    "print(vect.get_feature_names() [:300])"
   ]
  },
  {
   "cell_type": "code",
   "execution_count": 191,
   "metadata": {},
   "outputs": [
    {
     "data": {
      "text/plain": [
       "5486"
      ]
     },
     "execution_count": 191,
     "metadata": {},
     "output_type": "execute_result"
    }
   ],
   "source": [
    "len(vect.get_feature_names())"
   ]
  },
  {
   "cell_type": "code",
   "execution_count": 204,
   "metadata": {},
   "outputs": [
    {
     "data": {
      "text/plain": [
       "LogisticRegression(C=5.0)"
      ]
     },
     "execution_count": 204,
     "metadata": {},
     "output_type": "execute_result"
    }
   ],
   "source": [
    "tfidf_sk_model = LogisticRegression(C=5.0)\n",
    "tfidf_sk_model.fit(X_train_sk_tfidf.toarray(), y_train)"
   ]
  },
  {
   "cell_type": "code",
   "execution_count": 205,
   "metadata": {},
   "outputs": [
    {
     "name": "stdout",
     "output_type": "stream",
     "text": [
      "Model accuracy: 0.784\n",
      "Well done!\n"
     ]
    },
    {
     "data": {
      "image/png": "[encoded data removed]",
      "text/plain": [
       "<Figure size 432x288 with 1 Axes>"
      ]
     },
     "metadata": {
      "needs_background": "light"
     },
     "output_type": "display_data"
    }
   ],
   "source": [
    "for name, X, y, model in [\n",
    "    ('train', X_train_sk_tfidf.toarray(), y_train, tfidf_sk_model),\n",
    "    ('test ', X_test_sk_tfidf.toarray(), y_test, tfidf_sk_model)\n",
    "]:\n",
    "    proba = model.predict_proba(X)[:, 1]\n",
    "    auc = roc_auc_score(y, proba)\n",
    "    plt.plot(*roc_curve(y, proba)[:2], label='%s AUC=%.4f' % (name, auc))\n",
    "\n",
    "plt.plot([0, 1], [0, 1], '--', color='black',)\n",
    "plt.legend(fontsize='large')\n",
    "plt.grid()\n",
    "\n",
    "test_accuracy = np.mean(tfidf_sk_model.predict(X_test_sk_tfidf.toarray()) == y_test)\n",
    "print(f\"Model accuracy: {test_accuracy:.3f}\")\n",
    "assert test_accuracy > 0.77, \"Hint: tune the parameter C to improve performance\"\n",
    "print(\"Well done!\")"
   ]
  },
  {
   "cell_type": "markdown",
   "metadata": {},
   "source": [
    "```\n",
    "\n",
    "```\n",
    "\n",
    "```\n",
    "\n",
    "```\n",
    "\n",
    "```\n",
    "\n",
    "```\n",
    "\n",
    "```\n",
    "\n",
    "```\n",
    "\n",
    "```\n",
    "\n",
    "```\n",
    "\n",
    "```\n",
    "\n",
    "```\n",
    "\n",
    "```\n",
    "\n",
    "```\n",
    "\n",
    "```\n",
    "\n",
    "```\n",
    "\n",
    "\n",
    "### Solving it better: word vectors\n",
    "\n",
    "Let's try another approach: instead of counting per-word frequencies, we shall map all words to pre-trained word vectors and average over them to get text features.\n",
    "\n",
    "This should give us two key advantages: (1) we now have 10^2 features instead of 10^4 and (2) our model can generalize to word that are not in training dataset.\n",
    "\n",
    "We begin with a standard approach with pre-trained word vectors. However, you may also try\n",
    "* training embeddings from scratch on relevant (unlabeled) data\n",
    "* multiplying word vectors by inverse word frequency in dataset (like tf-idf).\n",
    "* concatenating several embeddings\n",
    "    * call `gensim.downloader.info()['models'].keys()` to get a list of available models\n",
    "* clusterizing words by their word-vectors and try bag of cluster_ids\n",
    "\n",
    "__Note:__ loading pre-trained model may take a while. It's a perfect opportunity to refill your cup of tea/coffee and grab some extra cookies. Or binge-watch some tv series if you're slow on internet connection"
   ]
  },
  {
   "cell_type": "code",
   "execution_count": 206,
   "metadata": {},
   "outputs": [],
   "source": [
    "import gensim.downloader \n",
    "embeddings = gensim.downloader.load(\"fasttext-wiki-news-subwords-300\")\n",
    "\n",
    "# If you're low on RAM or download speed, use \"glove-wiki-gigaword-100\" instead. Ignore all further asserts."
   ]
  },
  {
   "cell_type": "code",
   "execution_count": 207,
   "metadata": {},
   "outputs": [
    {
     "name": "stderr",
     "output_type": "stream",
     "text": [
      "C:\\Users\\jose\\AppData\\Roaming\\Python\\Python36\\site-packages\\ipykernel_launcher.py:5: DeprecationWarning: Call to deprecated `wv` (Attribute will be removed in 4.0.0, use self instead).\n",
      "  \"\"\"\n"
     ]
    }
   ],
   "source": [
    "def vectorize_sum(comment):\n",
    "    \"\"\"\n",
    "    implement a function that converts preprocessed comment to a sum of token vectors\n",
    "    \"\"\"\n",
    "    embedding_dim = embeddings.wv.vectors.shape[1]\n",
    "    features = np.zeros([embedding_dim], dtype='float32')\n",
    "    \n",
    "    #<YOUR CODE>\n",
    "    for word in comment.split():\n",
    "        try:\n",
    "            features += embeddings.get_vector(word)\n",
    "        except KeyError:\n",
    "            pass\n",
    "        \n",
    "    #print (features.shape)    \n",
    "    return features\n",
    "\n",
    "#vectorize_sum(\"who cares anymore . they attack with impunity .\") [::70]\n",
    "\n",
    "assert np.allclose(\n",
    "    vectorize_sum(\"who cares anymore . they attack with impunity .\")[::70],\n",
    "    np.array([ 0.0108616 ,  0.0261663 ,  0.13855131, -0.18510573, -0.46380025])\n",
    ")"
   ]
  },
  {
   "cell_type": "code",
   "execution_count": 208,
   "metadata": {},
   "outputs": [
    {
     "name": "stderr",
     "output_type": "stream",
     "text": [
      "C:\\Users\\jose\\AppData\\Roaming\\Python\\Python36\\site-packages\\ipykernel_launcher.py:5: DeprecationWarning: Call to deprecated `wv` (Attribute will be removed in 4.0.0, use self instead).\n",
      "  \"\"\"\n"
     ]
    }
   ],
   "source": [
    "X_train_wv = np.stack([vectorize_sum(text) for text in texts_train])\n",
    "X_test_wv = np.stack([vectorize_sum(text) for text in texts_test])"
   ]
  },
  {
   "cell_type": "code",
   "execution_count": 209,
   "metadata": {},
   "outputs": [
    {
     "data": {
      "image/png": "[encoded data removed]",
      "text/plain": [
       "<Figure size 432x288 with 1 Axes>"
      ]
     },
     "metadata": {
      "needs_background": "light"
     },
     "output_type": "display_data"
    }
   ],
   "source": [
    "wv_model = LogisticRegression(max_iter=500).fit(X_train_wv, y_train)\n",
    "\n",
    "for name, X, y, model in [\n",
    "    ('bow train', X_train_bow, y_train, bow_model),\n",
    "    ('bow test ', X_test_bow, y_test, bow_model),\n",
    "    ('vec train', X_train_wv, y_train, wv_model),\n",
    "    ('vec test ', X_test_wv, y_test, wv_model)\n",
    "]:\n",
    "    proba = model.predict_proba(X)[:, 1]\n",
    "    auc = roc_auc_score(y, proba)\n",
    "    plt.plot(*roc_curve(y, proba)[:2], label='%s AUC=%.4f' % (name, auc))\n",
    "\n",
    "plt.plot([0, 1], [0, 1], '--', color='black',)\n",
    "plt.legend(fontsize='large')\n",
    "plt.grid()\n",
    "\n",
    "assert roc_auc_score(y_test, wv_model.predict_proba(X_test_wv)[:, 1]) > 0.92, \"something's wrong with your features\""
   ]
  },
  {
   "cell_type": "markdown",
   "metadata": {},
   "source": [
    "If everything went right, you've just managed to reduce misclassification rate by a factor of two.\n",
    "This trick is very useful when you're dealing with small datasets. However, if you have hundreds of thousands of samples, there's a whole different range of methods for that. We'll get there in the second part."
   ]
  }
 ],
 "metadata": {
  "kernelspec": {
   "display_name": "tf-gpu",
   "language": "python",
   "name": "tf-gpu"
  },
  "language_info": {
   "codemirror_mode": {
    "name": "ipython",
    "version": 3
   },
   "file_extension": ".py",
   "mimetype": "text/x-python",
   "name": "python",
   "nbconvert_exporter": "python",
   "pygments_lexer": "ipython3",
   "version": "3.6.11"
  }
 },
 "nbformat": 4,
 "nbformat_minor": 4
}
