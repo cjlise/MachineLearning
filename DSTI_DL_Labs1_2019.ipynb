{
  "nbformat": 4,
  "nbformat_minor": 0,
  "metadata": {
    "kernelspec": {
      "name": "python3",
      "display_name": "Python 3"
    },
    "language_info": {
      "codemirror_mode": {
        "name": "ipython",
        "version": 3
      },
      "file_extension": ".py",
      "mimetype": "text/x-python",
      "name": "python",
      "nbconvert_exporter": "python",
      "pygments_lexer": "ipython3",
      "version": "3.7.3"
    },
    "colab": {
      "name": "DSTI_DL_Labs1_2019.ipynb",
      "provenance": [],
      "collapsed_sections": [],
      "toc_visible": true,
      "include_colab_link": true
    }
  },
  "cells": [
    {
      "cell_type": "markdown",
      "metadata": {
        "id": "view-in-github",
        "colab_type": "text"
      },
      "source": [
        "<a href=\"https://colab.research.google.com/github/cjlise/MachineLearning/blob/master/DSTI_DL_Labs1_2019.ipynb\" target=\"_parent\"><img src=\"https://colab.research.google.com/assets/colab-badge.svg\" alt=\"Open In Colab\"/></a>"
      ]
    },
    {
      "cell_type": "markdown",
      "metadata": {
        "id": "mYjIe2Y5gC9e",
        "colab_type": "text"
      },
      "source": [
        "# Torch basics"
      ]
    },
    {
      "cell_type": "code",
      "metadata": {
        "id": "Hh6cps5cgC9g",
        "colab_type": "code",
        "colab": {}
      },
      "source": [
        "import matplotlib.pyplot as plt\n",
        "%matplotlib inline\n",
        "import torch\n",
        "import numpy as np"
      ],
      "execution_count": 0,
      "outputs": []
    },
    {
      "cell_type": "code",
      "metadata": {
        "id": "Pe1KgPFqgC9m",
        "colab_type": "code",
        "outputId": "55321f10-feec-408c-aecd-facf8fa19430",
        "colab": {
          "base_uri": "https://localhost:8080/",
          "height": 34
        }
      },
      "source": [
        "torch.__version__"
      ],
      "execution_count": 41,
      "outputs": [
        {
          "output_type": "execute_result",
          "data": {
            "text/plain": [
              "'1.2.0'"
            ]
          },
          "metadata": {
            "tags": []
          },
          "execution_count": 41
        }
      ]
    },
    {
      "cell_type": "markdown",
      "metadata": {
        "id": "lMn2UjdXgC9r",
        "colab_type": "text"
      },
      "source": [
        "Largely inspired from the tutorial [What is PyTorch?](https://pytorch.org/tutorials/beginner/former_torchies/tensor_tutorial.html)\n",
        "\n",
        "Tensors are used to encode the signal to process, but also the internal states and parameters of models.\n",
        "\n",
        "Manipulating data through this constrained structure allows to use CPUs and GPUs at peak performance.\n",
        "\n"
      ]
    },
    {
      "cell_type": "markdown",
      "metadata": {
        "id": "hlUFi857xt6Q",
        "colab_type": "text"
      },
      "source": [
        "Construct a 3x5 matrix, uninitialized:"
      ]
    },
    {
      "cell_type": "code",
      "metadata": {
        "id": "2kLcNt8IgC9r",
        "colab_type": "code",
        "colab": {}
      },
      "source": [
        "# Sets the default floating point dtype. \n",
        "# This type will be used as default floating point type for type inference in torch.tensor().\n",
        "torch.set_default_tensor_type('torch.FloatTensor') "
      ],
      "execution_count": 0,
      "outputs": []
    },
    {
      "cell_type": "code",
      "metadata": {
        "id": "RjUhHCJMgC9u",
        "colab_type": "code",
        "outputId": "ef8dd3fc-397e-4d6b-bf4f-d859d75d02e9",
        "colab": {
          "base_uri": "https://localhost:8080/",
          "height": 85
        }
      },
      "source": [
        "x = torch.empty(3,5)\n",
        "print(x.type())\n",
        "print(x)"
      ],
      "execution_count": 4,
      "outputs": [
        {
          "output_type": "stream",
          "text": [
            "torch.FloatTensor\n",
            "tensor([[3.6136e-36, 0.0000e+00, 3.3631e-44, 0.0000e+00,        nan],\n",
            "        [0.0000e+00, 1.1578e+27, 1.1362e+30, 7.1547e+22, 4.5828e+30],\n",
            "        [1.2121e+04, 7.1846e+22, 9.2198e-39, 7.0374e+22, 0.0000e+00]])\n"
          ],
          "name": "stdout"
        }
      ]
    },
    {
      "cell_type": "code",
      "metadata": {
        "id": "MnRsrLh5gC9w",
        "colab_type": "code",
        "outputId": "5961a0fc-9a2d-447c-c848-003a9c5ccabb",
        "colab": {
          "base_uri": "https://localhost:8080/",
          "height": 68
        }
      },
      "source": [
        "x = torch.randn(3,5)\n",
        "print(x)"
      ],
      "execution_count": 5,
      "outputs": [
        {
          "output_type": "stream",
          "text": [
            "tensor([[ 1.6968, -0.7017, -1.1699, -0.3099,  0.7094],\n",
            "        [-1.3050,  0.8692,  0.8280,  0.3640, -0.5945],\n",
            "        [ 0.1859, -2.0526,  0.9747,  0.5842, -0.1899]])\n"
          ],
          "name": "stdout"
        }
      ]
    },
    {
      "cell_type": "code",
      "metadata": {
        "id": "lfgpO7kUgC9z",
        "colab_type": "code",
        "outputId": "e681fea9-0cfc-463f-d348-e4779a540957",
        "colab": {
          "base_uri": "https://localhost:8080/",
          "height": 34
        }
      },
      "source": [
        "print(x.size())"
      ],
      "execution_count": 6,
      "outputs": [
        {
          "output_type": "stream",
          "text": [
            "torch.Size([3, 5])\n"
          ],
          "name": "stdout"
        }
      ]
    },
    {
      "cell_type": "markdown",
      "metadata": {
        "id": "NNLzvVKigC92",
        "colab_type": "text"
      },
      "source": [
        "torch.Size is in fact a [tuple](https://docs.python.org/3/tutorial/datastructures.html#tuples-and-sequences), so it supports the same operations."
      ]
    },
    {
      "cell_type": "code",
      "metadata": {
        "id": "W-o3sFH3gC92",
        "colab_type": "code",
        "outputId": "753f76c1-dbb2-4c9f-9633-d5bc92afe261",
        "colab": {
          "base_uri": "https://localhost:8080/",
          "height": 34
        }
      },
      "source": [
        "x.size()[1]"
      ],
      "execution_count": 7,
      "outputs": [
        {
          "output_type": "execute_result",
          "data": {
            "text/plain": [
              "5"
            ]
          },
          "metadata": {
            "tags": []
          },
          "execution_count": 7
        }
      ]
    },
    {
      "cell_type": "code",
      "metadata": {
        "id": "LkQAasgtgC95",
        "colab_type": "code",
        "outputId": "db3028f8-38a3-4cec-d8b3-81c5af53e3d9",
        "colab": {
          "base_uri": "https://localhost:8080/",
          "height": 34
        }
      },
      "source": [
        "x.size() == (3,5)"
      ],
      "execution_count": 8,
      "outputs": [
        {
          "output_type": "execute_result",
          "data": {
            "text/plain": [
              "True"
            ]
          },
          "metadata": {
            "tags": []
          },
          "execution_count": 8
        }
      ]
    },
    {
      "cell_type": "markdown",
      "metadata": {
        "id": "XeAg1TcMhyf4",
        "colab_type": "text"
      },
      "source": [
        "Select some columns"
      ]
    },
    {
      "cell_type": "code",
      "metadata": {
        "id": "DZaC-fXlgY6G",
        "colab_type": "code",
        "outputId": "2a6ca896-d212-4ad2-8450-18eec32eb81d",
        "colab": {
          "base_uri": "https://localhost:8080/",
          "height": 102
        }
      },
      "source": [
        "cols = torch.zeros(5, dtype=torch.bool)\n",
        "print(cols)\n",
        "cols[1] = True\n",
        "cols[4] = True\n",
        "print(cols)\n",
        "c = x[:, cols]  # selects all rows, 4th column and  5th column from a\n",
        "print(c)"
      ],
      "execution_count": 9,
      "outputs": [
        {
          "output_type": "stream",
          "text": [
            "tensor([False, False, False, False, False])\n",
            "tensor([False,  True, False, False,  True])\n",
            "tensor([[-0.7017,  0.7094],\n",
            "        [ 0.8692, -0.5945],\n",
            "        [-2.0526, -0.1899]])\n"
          ],
          "name": "stdout"
        }
      ]
    },
    {
      "cell_type": "markdown",
      "metadata": {
        "id": "t9v3syrRf-13",
        "colab_type": "text"
      },
      "source": [
        "All operations on the tensor that operate in-place on it will have an _ postfix. "
      ]
    },
    {
      "cell_type": "code",
      "metadata": {
        "id": "zr3PP5oVf1SV",
        "colab_type": "code",
        "outputId": "6fc1606a-8ed5-499e-8eef-a6674376498b",
        "colab": {
          "base_uri": "https://localhost:8080/",
          "height": 68
        }
      },
      "source": [
        "# x will be filled with the value 3.5\n",
        "x.fill_(3.5)\n",
        "print(x)"
      ],
      "execution_count": 10,
      "outputs": [
        {
          "output_type": "stream",
          "text": [
            "tensor([[3.5000, 3.5000, 3.5000, 3.5000, 3.5000],\n",
            "        [3.5000, 3.5000, 3.5000, 3.5000, 3.5000],\n",
            "        [3.5000, 3.5000, 3.5000, 3.5000, 3.5000]])\n"
          ],
          "name": "stdout"
        }
      ]
    },
    {
      "cell_type": "markdown",
      "metadata": {
        "id": "SXPtlUXsgC96",
        "colab_type": "text"
      },
      "source": [
        "### Bridge to numpy"
      ]
    },
    {
      "cell_type": "code",
      "metadata": {
        "id": "61srdUzCgC97",
        "colab_type": "code",
        "outputId": "ebc8ec09-72cd-4ab6-8902-1ec62ebfc72d",
        "colab": {
          "base_uri": "https://localhost:8080/",
          "height": 68
        }
      },
      "source": [
        "y = x.numpy()\n",
        "print(y)"
      ],
      "execution_count": 11,
      "outputs": [
        {
          "output_type": "stream",
          "text": [
            "[[3.5 3.5 3.5 3.5 3.5]\n",
            " [3.5 3.5 3.5 3.5 3.5]\n",
            " [3.5 3.5 3.5 3.5 3.5]]\n"
          ],
          "name": "stdout"
        }
      ]
    },
    {
      "cell_type": "code",
      "metadata": {
        "id": "tFv5BzYsgC99",
        "colab_type": "code",
        "outputId": "2ee05456-93af-40c2-c665-4870deda8a9b",
        "colab": {
          "base_uri": "https://localhost:8080/",
          "height": 34
        }
      },
      "source": [
        "a = np.ones(5)\n",
        "b = torch.from_numpy(a)\n",
        "print(b)\n",
        " "
      ],
      "execution_count": 12,
      "outputs": [
        {
          "output_type": "stream",
          "text": [
            "tensor([1., 1., 1., 1., 1.], dtype=torch.float64)\n"
          ],
          "name": "stdout"
        }
      ]
    },
    {
      "cell_type": "markdown",
      "metadata": {
        "id": "7fwWdAYjUuiN",
        "colab_type": "text"
      },
      "source": [
        "## Operations\n",
        "\n",
        "There are multiple syntaxes for operations. In the following\n",
        "example, we will take a look at the addition operation.\n",
        "\n",
        "Addition: syntax 1"
      ]
    },
    {
      "cell_type": "code",
      "metadata": {
        "id": "4iASmmTAUxG0",
        "colab_type": "code",
        "outputId": "13e34f4c-65c0-4c8e-a2df-b35f7d3b454f",
        "colab": {
          "base_uri": "https://localhost:8080/",
          "height": 102
        }
      },
      "source": [
        "x = torch.rand(5, 3) \n",
        "y = torch.rand(5, 3)\n",
        "print(x + y)"
      ],
      "execution_count": 13,
      "outputs": [
        {
          "output_type": "stream",
          "text": [
            "tensor([[0.2960, 0.7836, 1.4247],\n",
            "        [0.7742, 0.5424, 1.4347],\n",
            "        [1.0359, 1.2747, 0.5737],\n",
            "        [0.5995, 1.4841, 1.0367],\n",
            "        [1.4145, 0.9602, 0.2782]])\n"
          ],
          "name": "stdout"
        }
      ]
    },
    {
      "cell_type": "markdown",
      "metadata": {
        "id": "H5NxjdPhVQP8",
        "colab_type": "text"
      },
      "source": [
        "Addition: syntax 2"
      ]
    },
    {
      "cell_type": "code",
      "metadata": {
        "id": "GwCo8DOcVRHq",
        "colab_type": "code",
        "outputId": "e9e0725f-34ff-43c2-a98c-7d2c093b59ed",
        "colab": {
          "base_uri": "https://localhost:8080/",
          "height": 102
        }
      },
      "source": [
        "print(torch.add(x, y))"
      ],
      "execution_count": 14,
      "outputs": [
        {
          "output_type": "stream",
          "text": [
            "tensor([[0.2960, 0.7836, 1.4247],\n",
            "        [0.7742, 0.5424, 1.4347],\n",
            "        [1.0359, 1.2747, 0.5737],\n",
            "        [0.5995, 1.4841, 1.0367],\n",
            "        [1.4145, 0.9602, 0.2782]])\n"
          ],
          "name": "stdout"
        }
      ]
    },
    {
      "cell_type": "markdown",
      "metadata": {
        "id": "wNuL3H61VZvS",
        "colab_type": "text"
      },
      "source": [
        "Addition: providing an output tensor as argument"
      ]
    },
    {
      "cell_type": "code",
      "metadata": {
        "id": "hX1ffSunVail",
        "colab_type": "code",
        "outputId": "10c8963a-2c46-40f3-fa64-45ea76d4cc2a",
        "colab": {
          "base_uri": "https://localhost:8080/",
          "height": 102
        }
      },
      "source": [
        "result = torch.empty(5, 3)\n",
        "torch.add(x, y, out=result)\n",
        "print(result)"
      ],
      "execution_count": 15,
      "outputs": [
        {
          "output_type": "stream",
          "text": [
            "tensor([[0.2960, 0.7836, 1.4247],\n",
            "        [0.7742, 0.5424, 1.4347],\n",
            "        [1.0359, 1.2747, 0.5737],\n",
            "        [0.5995, 1.4841, 1.0367],\n",
            "        [1.4145, 0.9602, 0.2782]])\n"
          ],
          "name": "stdout"
        }
      ]
    },
    {
      "cell_type": "markdown",
      "metadata": {
        "id": "-VK0_f0rVejB",
        "colab_type": "text"
      },
      "source": [
        "Addition: in-place"
      ]
    },
    {
      "cell_type": "code",
      "metadata": {
        "id": "rj0GKMgSVlGV",
        "colab_type": "code",
        "outputId": "26c20478-8058-4ac4-f20a-344d35a64b6c",
        "colab": {
          "base_uri": "https://localhost:8080/",
          "height": 102
        }
      },
      "source": [
        "# adds x to y\n",
        "y.add_(x)\n",
        "print(y)"
      ],
      "execution_count": 16,
      "outputs": [
        {
          "output_type": "stream",
          "text": [
            "tensor([[0.2960, 0.7836, 1.4247],\n",
            "        [0.7742, 0.5424, 1.4347],\n",
            "        [1.0359, 1.2747, 0.5737],\n",
            "        [0.5995, 1.4841, 1.0367],\n",
            "        [1.4145, 0.9602, 0.2782]])\n"
          ],
          "name": "stdout"
        }
      ]
    },
    {
      "cell_type": "markdown",
      "metadata": {
        "id": "EgNBadgeVscS",
        "colab_type": "text"
      },
      "source": [
        "**Note:** Any operation that mutates a tensor in-place is post-fixed with an ``_``.\n",
        "    For example: ``x.copy_(y)``, ``x.t_()``, will change ``x``.\n",
        "\n"
      ]
    },
    {
      "cell_type": "markdown",
      "metadata": {
        "id": "kOPtMoOkgC-G",
        "colab_type": "text"
      },
      "source": [
        "Any operation that mutates a tensor in-place is post-fixed with an ```_```\n",
        "\n",
        "For example: ```x.copy_(y)```, ```x.t_()```, will change ```x```."
      ]
    },
    {
      "cell_type": "code",
      "metadata": {
        "id": "hrOV0mQIgC-G",
        "colab_type": "code",
        "outputId": "c53f2a3f-cfb1-4f0f-cac6-69a15441370d",
        "colab": {
          "base_uri": "https://localhost:8080/",
          "height": 68
        }
      },
      "source": [
        "print(x.t())"
      ],
      "execution_count": 17,
      "outputs": [
        {
          "output_type": "stream",
          "text": [
            "tensor([[0.1000, 0.5668, 0.4216, 0.5932, 0.4561],\n",
            "        [0.5409, 0.1357, 0.3128, 0.6065, 0.1522],\n",
            "        [0.6655, 0.4720, 0.2894, 0.5529, 0.1603]])\n"
          ],
          "name": "stdout"
        }
      ]
    },
    {
      "cell_type": "code",
      "metadata": {
        "id": "LfNnD4vSgC-H",
        "colab_type": "code",
        "outputId": "d4f55389-ed45-489f-cef6-fb22c393646f",
        "colab": {
          "base_uri": "https://localhost:8080/",
          "height": 102
        }
      },
      "source": [
        "print(x)"
      ],
      "execution_count": 18,
      "outputs": [
        {
          "output_type": "stream",
          "text": [
            "tensor([[0.1000, 0.5409, 0.6655],\n",
            "        [0.5668, 0.1357, 0.4720],\n",
            "        [0.4216, 0.3128, 0.2894],\n",
            "        [0.5932, 0.6065, 0.5529],\n",
            "        [0.4561, 0.1522, 0.1603]])\n"
          ],
          "name": "stdout"
        }
      ]
    },
    {
      "cell_type": "code",
      "metadata": {
        "id": "5YdHeI8lgC-I",
        "colab_type": "code",
        "outputId": "d3d1d2f5-fe8a-4c63-8f3e-33e0c613012f",
        "colab": {
          "base_uri": "https://localhost:8080/",
          "height": 68
        }
      },
      "source": [
        "x.t_()\n",
        "print(x)"
      ],
      "execution_count": 19,
      "outputs": [
        {
          "output_type": "stream",
          "text": [
            "tensor([[0.1000, 0.5668, 0.4216, 0.5932, 0.4561],\n",
            "        [0.5409, 0.1357, 0.3128, 0.6065, 0.1522],\n",
            "        [0.6655, 0.4720, 0.2894, 0.5529, 0.1603]])\n"
          ],
          "name": "stdout"
        }
      ]
    },
    {
      "cell_type": "markdown",
      "metadata": {
        "id": "UfxHIL-mWyZl",
        "colab_type": "text"
      },
      "source": [
        "You can use standard NumPy-like indexing with all bells and whistles!"
      ]
    },
    {
      "cell_type": "code",
      "metadata": {
        "id": "Cz4M97B2Wtyu",
        "colab_type": "code",
        "outputId": "5bc2f741-d4ec-432a-dceb-c75977670d8a",
        "colab": {
          "base_uri": "https://localhost:8080/",
          "height": 34
        }
      },
      "source": [
        "print(x[:, 1])"
      ],
      "execution_count": 20,
      "outputs": [
        {
          "output_type": "stream",
          "text": [
            "tensor([0.5668, 0.1357, 0.4720])\n"
          ],
          "name": "stdout"
        }
      ]
    },
    {
      "cell_type": "markdown",
      "metadata": {
        "id": "M6tsVH8zW8yB",
        "colab_type": "text"
      },
      "source": [
        "Resizing (very useful): If you want to resize/reshape tensor, you can use ``torch.view``:"
      ]
    },
    {
      "cell_type": "code",
      "metadata": {
        "id": "k0qjaFPDW_3I",
        "colab_type": "code",
        "outputId": "b65a0f93-e575-4454-cbcf-e67c091a1650",
        "colab": {
          "base_uri": "https://localhost:8080/",
          "height": 34
        }
      },
      "source": [
        "x = torch.randn(4, 4)\n",
        "y = x.view(16)\n",
        "z = x.view(-1, 8)  # the size -1 is inferred from other dimensions\n",
        "print(x.size(), y.size(), z.size())"
      ],
      "execution_count": 21,
      "outputs": [
        {
          "output_type": "stream",
          "text": [
            "torch.Size([4, 4]) torch.Size([16]) torch.Size([2, 8])\n"
          ],
          "name": "stdout"
        }
      ]
    },
    {
      "cell_type": "markdown",
      "metadata": {
        "id": "fP8sTTCgXRak",
        "colab_type": "text"
      },
      "source": [
        "If you have a one element tensor, use ``.item()`` to get the value as a\n",
        "Python number"
      ]
    },
    {
      "cell_type": "code",
      "metadata": {
        "id": "zaG9x6SHXSPw",
        "colab_type": "code",
        "outputId": "aa1bf384-4d6c-4bc2-8253-6a66a1272797",
        "colab": {
          "base_uri": "https://localhost:8080/",
          "height": 51
        }
      },
      "source": [
        "x = torch.randn(1)\n",
        "print(x)\n",
        "print(x.item())"
      ],
      "execution_count": 22,
      "outputs": [
        {
          "output_type": "stream",
          "text": [
            "tensor([-1.5489])\n",
            "-1.548862099647522\n"
          ],
          "name": "stdout"
        }
      ]
    },
    {
      "cell_type": "markdown",
      "metadata": {
        "id": "mqCvPrp-XmZQ",
        "colab_type": "text"
      },
      "source": [
        "**Read later:**\n",
        "\n",
        "\n",
        "  100+ Tensor operations, including transposing, indexing, slicing,\n",
        "  mathematical operations, linear algebra, random numbers, etc.,\n",
        "  are described\n",
        "  [here](https://pytorch.org/docs/torch)."
      ]
    },
    {
      "cell_type": "markdown",
      "metadata": {
        "id": "8Jk-JGYpeCNz",
        "colab_type": "text"
      },
      "source": [
        "## 3D Tensors"
      ]
    },
    {
      "cell_type": "markdown",
      "metadata": {
        "id": "RTGbU2E-eLWF",
        "colab_type": "text"
      },
      "source": [
        "### Question: What is the size of the following tensor?"
      ]
    },
    {
      "cell_type": "code",
      "metadata": {
        "id": "d-Dg4nyOeD4f",
        "colab_type": "code",
        "colab": {}
      },
      "source": [
        "y = torch.tensor([\n",
        "     [\n",
        "       [1, 2, 3],\n",
        "       [4, 5, 6]\n",
        "     ],\n",
        "     [\n",
        "       [1, 2, 3],\n",
        "       [4, 5, 6]\n",
        "     ],\n",
        "     [\n",
        "       [1, 2, 3],\n",
        "       [4, 5, 6]\n",
        "     ]\n",
        "   ])\n"
      ],
      "execution_count": 0,
      "outputs": []
    },
    {
      "cell_type": "code",
      "metadata": {
        "id": "7aRd26LhYfOp",
        "colab_type": "code",
        "outputId": "5788e4c9-bbf6-4d92-adfc-c57c40ce6d80",
        "colab": {
          "base_uri": "https://localhost:8080/",
          "height": 51
        }
      },
      "source": [
        "print(y.shape)\n",
        "print(y.size())"
      ],
      "execution_count": 24,
      "outputs": [
        {
          "output_type": "stream",
          "text": [
            "torch.Size([3, 2, 3])\n",
            "torch.Size([3, 2, 3])\n"
          ],
          "name": "stdout"
        }
      ]
    },
    {
      "cell_type": "markdown",
      "metadata": {
        "id": "dOUGbVEUe9DC",
        "colab_type": "text"
      },
      "source": [
        "### Question: Explain the result of the next cell"
      ]
    },
    {
      "cell_type": "code",
      "metadata": {
        "id": "14O04VMTe9eg",
        "colab_type": "code",
        "outputId": "dcce647e-532a-4638-ad25-7e52ce5c2c49",
        "colab": {
          "base_uri": "https://localhost:8080/",
          "height": 51
        }
      },
      "source": [
        "torch.sum(y, dim=0)"
      ],
      "execution_count": 25,
      "outputs": [
        {
          "output_type": "execute_result",
          "data": {
            "text/plain": [
              "tensor([[ 3,  6,  9],\n",
              "        [12, 15, 18]])"
            ]
          },
          "metadata": {
            "tags": []
          },
          "execution_count": 25
        }
      ]
    },
    {
      "cell_type": "markdown",
      "metadata": {
        "id": "iUPo-9Y4ZFJq",
        "colab_type": "text"
      },
      "source": [
        "Sum dim=0 sum along dimension 0 the first dimension \n",
        "\n"
      ]
    },
    {
      "cell_type": "markdown",
      "metadata": {
        "id": "Ev68h5j1ZUNH",
        "colab_type": "text"
      },
      "source": [
        "## Broadcasting semantics\n",
        "\n",
        "In short, if a PyTorch operation supports broadcast, then its Tensor arguments can be automatically expanded to be of equal sizes (without making copies of the data).\n",
        "\n",
        "Two tensors are “broadcastable” if the following rules hold:\n",
        "\n",
        "*   Each tensor has at least one dimension.\n",
        "*   When iterating over the dimension sizes, **starting at the trailing dimension**, the dimension sizes must either be equal, one of them is 1, or one of them does not exist.\n",
        "\n",
        "If two tensors x, y are “broadcastable”, the resulting tensor size is calculated as follows:\n",
        "* If the number of dimensions of x and y are not equal, prepend 1 to the dimensions of the tensor with fewer dimensions to make them equal length.\n",
        "* Then, for each dimension size, the resulting dimension size is the max of the sizes of x and y along that dimension.\n",
        "\n",
        "More details [here](https://pytorch.org/docs/stable/notes/broadcasting.html)\n",
        "\n"
      ]
    },
    {
      "cell_type": "code",
      "metadata": {
        "id": "P3f9hXLxZXQa",
        "colab_type": "code",
        "outputId": "2e6d0f96-175c-4fef-c104-07bdebba0ddd",
        "colab": {
          "base_uri": "https://localhost:8080/",
          "height": 34
        }
      },
      "source": [
        "# can line up trailing dimensions to make reading easier\n",
        "x=torch.empty(5,1,4,1)\n",
        "y=torch.empty(  3,1,1)\n",
        "print((x+y).size())\n",
        "\n"
      ],
      "execution_count": 26,
      "outputs": [
        {
          "output_type": "stream",
          "text": [
            "torch.Size([5, 3, 4, 1])\n"
          ],
          "name": "stdout"
        }
      ]
    },
    {
      "cell_type": "code",
      "metadata": {
        "id": "LsYo7aBqaJ5F",
        "colab_type": "code",
        "outputId": "27f527ec-292a-4364-b37f-7ff1c31cb9df",
        "colab": {
          "base_uri": "https://localhost:8080/",
          "height": 34
        }
      },
      "source": [
        "# but not necessary:\n",
        "x=torch.empty(1)\n",
        "y=torch.empty(3,1,7)\n",
        "print((x+y).size())\n",
        "\n"
      ],
      "execution_count": 27,
      "outputs": [
        {
          "output_type": "stream",
          "text": [
            "torch.Size([3, 1, 7])\n"
          ],
          "name": "stdout"
        }
      ]
    },
    {
      "cell_type": "markdown",
      "metadata": {
        "id": "0n_Y_hY6fxeL",
        "colab_type": "text"
      },
      "source": [
        "### Question: The following command does not work. Why?\n",
        "\n"
      ]
    },
    {
      "cell_type": "code",
      "metadata": {
        "id": "Vq3SqanjaO6U",
        "colab_type": "code",
        "outputId": "07f635b6-3500-46f3-f9ca-20e09f0e48b2",
        "colab": {
          "base_uri": "https://localhost:8080/",
          "height": 217
        }
      },
      "source": [
        "x=torch.empty(5,2,4,1)\n",
        "y=torch.empty(  3,1,1)\n",
        "print((x+y).size())\n"
      ],
      "execution_count": 28,
      "outputs": [
        {
          "output_type": "error",
          "ename": "RuntimeError",
          "evalue": "ignored",
          "traceback": [
            "\u001b[0;31m---------------------------------------------------------------------------\u001b[0m",
            "\u001b[0;31mRuntimeError\u001b[0m                              Traceback (most recent call last)",
            "\u001b[0;32m<ipython-input-28-b8d3fcc0b74d>\u001b[0m in \u001b[0;36m<module>\u001b[0;34m()\u001b[0m\n\u001b[1;32m      1\u001b[0m \u001b[0mx\u001b[0m\u001b[0;34m=\u001b[0m\u001b[0mtorch\u001b[0m\u001b[0;34m.\u001b[0m\u001b[0mempty\u001b[0m\u001b[0;34m(\u001b[0m\u001b[0;36m5\u001b[0m\u001b[0;34m,\u001b[0m\u001b[0;36m2\u001b[0m\u001b[0;34m,\u001b[0m\u001b[0;36m4\u001b[0m\u001b[0;34m,\u001b[0m\u001b[0;36m1\u001b[0m\u001b[0;34m)\u001b[0m\u001b[0;34m\u001b[0m\u001b[0;34m\u001b[0m\u001b[0m\n\u001b[1;32m      2\u001b[0m \u001b[0my\u001b[0m\u001b[0;34m=\u001b[0m\u001b[0mtorch\u001b[0m\u001b[0;34m.\u001b[0m\u001b[0mempty\u001b[0m\u001b[0;34m(\u001b[0m  \u001b[0;36m3\u001b[0m\u001b[0;34m,\u001b[0m\u001b[0;36m1\u001b[0m\u001b[0;34m,\u001b[0m\u001b[0;36m1\u001b[0m\u001b[0;34m)\u001b[0m\u001b[0;34m\u001b[0m\u001b[0;34m\u001b[0m\u001b[0m\n\u001b[0;32m----> 3\u001b[0;31m \u001b[0mprint\u001b[0m\u001b[0;34m(\u001b[0m\u001b[0;34m(\u001b[0m\u001b[0mx\u001b[0m\u001b[0;34m+\u001b[0m\u001b[0my\u001b[0m\u001b[0;34m)\u001b[0m\u001b[0;34m.\u001b[0m\u001b[0msize\u001b[0m\u001b[0;34m(\u001b[0m\u001b[0;34m)\u001b[0m\u001b[0;34m)\u001b[0m\u001b[0;34m\u001b[0m\u001b[0;34m\u001b[0m\u001b[0m\n\u001b[0m",
            "\u001b[0;31mRuntimeError\u001b[0m: The size of tensor a (2) must match the size of tensor b (3) at non-singleton dimension 1"
          ]
        }
      ]
    },
    {
      "cell_type": "markdown",
      "metadata": {
        "id": "_zmQCmn_aQml",
        "colab_type": "text"
      },
      "source": [
        "There is a problem between 2 and 3\n",
        "\n"
      ]
    },
    {
      "cell_type": "code",
      "metadata": {
        "id": "ha4-WRJ0g4l9",
        "colab_type": "code",
        "outputId": "dc71b74b-c185-44cb-a98d-6beb4cc88bc2",
        "colab": {
          "base_uri": "https://localhost:8080/",
          "height": 153
        }
      },
      "source": [
        "x=2*torch.ones(  2,4)\n",
        "y=torch.ones(3,2,4)\n",
        "print(x+y)"
      ],
      "execution_count": 29,
      "outputs": [
        {
          "output_type": "stream",
          "text": [
            "tensor([[[3., 3., 3., 3.],\n",
            "         [3., 3., 3., 3.]],\n",
            "\n",
            "        [[3., 3., 3., 3.],\n",
            "         [3., 3., 3., 3.]],\n",
            "\n",
            "        [[3., 3., 3., 3.],\n",
            "         [3., 3., 3., 3.]]])\n"
          ],
          "name": "stdout"
        }
      ]
    },
    {
      "cell_type": "code",
      "metadata": {
        "id": "lfpk2tfpgC9-",
        "colab_type": "code",
        "outputId": "d194f8f2-fb73-45f7-db17-544cf6b59570",
        "colab": {
          "base_uri": "https://localhost:8080/",
          "height": 85
        }
      },
      "source": [
        "xr = torch.randn(3, 5)\n",
        "a = np.ones(5)\n",
        "b = torch.from_numpy(a)\n",
        "print(xr)\n",
        "print(b)"
      ],
      "execution_count": 30,
      "outputs": [
        {
          "output_type": "stream",
          "text": [
            "tensor([[-1.3206,  1.0863,  0.3469, -0.9912, -1.2706],\n",
            "        [ 0.4007,  0.5237, -0.2400,  0.9102,  0.4054],\n",
            "        [ 0.8155,  1.3665, -0.8227, -0.3777, -1.2586]])\n",
            "tensor([1., 1., 1., 1., 1.], dtype=torch.float64)\n"
          ],
          "name": "stdout"
        }
      ]
    },
    {
      "cell_type": "code",
      "metadata": {
        "id": "q5IIYQb_bUDF",
        "colab_type": "code",
        "outputId": "dc4ccb2f-544a-4d56-ab40-5d6cc603c734",
        "colab": {
          "base_uri": "https://localhost:8080/",
          "height": 34
        }
      },
      "source": [
        "print(b.shape)"
      ],
      "execution_count": 31,
      "outputs": [
        {
          "output_type": "stream",
          "text": [
            "torch.Size([5])\n"
          ],
          "name": "stdout"
        }
      ]
    },
    {
      "cell_type": "markdown",
      "metadata": {
        "id": "q064oZr7Tcnz",
        "colab_type": "text"
      },
      "source": [
        "### Question: The following command does not work. Why?"
      ]
    },
    {
      "cell_type": "code",
      "metadata": {
        "id": "TVF-0_uKgC-A",
        "colab_type": "code",
        "outputId": "97f797ef-afc6-47b9-dae7-431ce9e664ff",
        "colab": {
          "base_uri": "https://localhost:8080/",
          "height": 68
        }
      },
      "source": [
        "xr + b.float()"
      ],
      "execution_count": 32,
      "outputs": [
        {
          "output_type": "execute_result",
          "data": {
            "text/plain": [
              "tensor([[-0.3206,  2.0863,  1.3469,  0.0088, -0.2706],\n",
              "        [ 1.4007,  1.5237,  0.7600,  1.9102,  1.4054],\n",
              "        [ 1.8155,  2.3665,  0.1773,  0.6223, -0.2586]])"
            ]
          },
          "metadata": {
            "tags": []
          },
          "execution_count": 32
        }
      ]
    },
    {
      "cell_type": "markdown",
      "metadata": {
        "id": "mHwGzGVJbtl3",
        "colab_type": "text"
      },
      "source": [
        "The underlying types must be the same to add tensor. \n",
        "Here we have to cast b to float from float64\n"
      ]
    },
    {
      "cell_type": "markdown",
      "metadata": {
        "id": "Afol8pk8VPUn",
        "colab_type": "text"
      },
      "source": [
        "### Question: What is the diffence between \"x = xr\" and \"x = xr.clone()\"? "
      ]
    },
    {
      "cell_type": "code",
      "metadata": {
        "id": "ROIvJcOngC-E",
        "colab_type": "code",
        "outputId": "db897172-7305-4b64-a1c1-5c44b8bf1886",
        "colab": {
          "base_uri": "https://localhost:8080/",
          "height": 119
        }
      },
      "source": [
        "x = xr.clone()\n",
        "x.add_(-xr)\n",
        "print(x)\n",
        "print(xr)"
      ],
      "execution_count": 33,
      "outputs": [
        {
          "output_type": "stream",
          "text": [
            "tensor([[0., 0., 0., 0., 0.],\n",
            "        [0., 0., 0., 0., 0.],\n",
            "        [0., 0., 0., 0., 0.]])\n",
            "tensor([[-1.3206,  1.0863,  0.3469, -0.9912, -1.2706],\n",
            "        [ 0.4007,  0.5237, -0.2400,  0.9102,  0.4054],\n",
            "        [ 0.8155,  1.3665, -0.8227, -0.3777, -1.2586]])\n"
          ],
          "name": "stdout"
        }
      ]
    },
    {
      "cell_type": "markdown",
      "metadata": {
        "id": "V1OWObKIcJcy",
        "colab_type": "text"
      },
      "source": [
        "x = xr  ( 2 tensor pointer pointing at the same location)\n",
        "xr.clone() => Deep copy of xr \n",
        "\n"
      ]
    },
    {
      "cell_type": "markdown",
      "metadata": {
        "id": "UWxZLzMrgC-J",
        "colab_type": "text"
      },
      "source": [
        "Also be careful, changing the torch tensor modify the numpy array and vice-versa..."
      ]
    },
    {
      "cell_type": "code",
      "metadata": {
        "id": "lkcW43iugC-J",
        "colab_type": "code",
        "outputId": "f192c2c2-cd69-4aa7-db51-bd8e81c7c187",
        "colab": {
          "base_uri": "https://localhost:8080/",
          "height": 85
        }
      },
      "source": [
        "y=torch.ones(2,4)\n",
        "print(y)\n",
        "z = y.numpy()\n",
        "print(z)"
      ],
      "execution_count": 34,
      "outputs": [
        {
          "output_type": "stream",
          "text": [
            "tensor([[1., 1., 1., 1.],\n",
            "        [1., 1., 1., 1.]])\n",
            "[[1. 1. 1. 1.]\n",
            " [1. 1. 1. 1.]]\n"
          ],
          "name": "stdout"
        }
      ]
    },
    {
      "cell_type": "code",
      "metadata": {
        "id": "qvRrtvz1gC-K",
        "colab_type": "code",
        "outputId": "66e835dd-9f85-4a26-e9ee-4cf2425fc365",
        "colab": {
          "base_uri": "https://localhost:8080/",
          "height": 170
        }
      },
      "source": [
        "np.add(z, 1, out=z)\n",
        "print(\"z=\", z)\n",
        "print(\"y=\", y,\"\\n\")\n",
        "torch.add(y, -4, out=y)\n",
        "print(\"z=\",z)\n",
        "print(\"y=\",y)"
      ],
      "execution_count": 35,
      "outputs": [
        {
          "output_type": "stream",
          "text": [
            "z= [[2. 2. 2. 2.]\n",
            " [2. 2. 2. 2.]]\n",
            "y= tensor([[2., 2., 2., 2.],\n",
            "        [2., 2., 2., 2.]]) \n",
            "\n",
            "z= [[-2. -2. -2. -2.]\n",
            " [-2. -2. -2. -2.]]\n",
            "y= tensor([[-2., -2., -2., -2.],\n",
            "        [-2., -2., -2., -2.]])\n"
          ],
          "name": "stdout"
        }
      ]
    },
    {
      "cell_type": "markdown",
      "metadata": {
        "id": "vJz6l2_kdQCD",
        "colab_type": "text"
      },
      "source": [
        "y and z are pointing to the same location \n",
        "\n"
      ]
    },
    {
      "cell_type": "markdown",
      "metadata": {
        "id": "uSvS2bdKidcc",
        "colab_type": "text"
      },
      "source": [
        "\n",
        "## Playing with pytorch: linear regression"
      ]
    },
    {
      "cell_type": "markdown",
      "metadata": {
        "id": "UzjNRT-OSCzL",
        "colab_type": "text"
      },
      "source": [
        "Code for plotting the surface"
      ]
    },
    {
      "cell_type": "code",
      "metadata": {
        "id": "KhuyxIm1Rd0W",
        "colab_type": "code",
        "colab": {}
      },
      "source": [
        "import matplotlib.pyplot as plt\n",
        "import numpy as np\n",
        "from mpl_toolkits.mplot3d import Axes3D\n",
        "\n",
        "def plot_figs(fig_num, elev, azim, x, y, weights, bias):\n",
        "    fig = plt.figure(fig_num, figsize=(4, 3))\n",
        "    plt.clf()\n",
        "    ax = Axes3D(fig, elev=elev, azim=azim)\n",
        "    ax.scatter(x[:, 0], x[:, 1], y)\n",
        "    ax.plot_surface(np.array([[0, 0], [1, 1]]),\n",
        "                    np.array([[0, 1], [0, 1]]),\n",
        "                    (np.dot(np.array([[0, 0, 1, 1],\n",
        "                                          [0, 1, 0, 1]]).T, weights) + bias).reshape((2, 2)),\n",
        "                    alpha=.5)\n",
        "    ax.set_xlabel('x_1')\n",
        "    ax.set_ylabel('x_2')\n",
        "    ax.set_zlabel('y')\n",
        "    \n",
        "def plot_views(x, y, w, b):\n",
        "    #Generate the different figures from different views\n",
        "    elev = 43.5\n",
        "    azim = -110\n",
        "    plot_figs(1, elev, azim, x, y, w, b[0])\n",
        "\n",
        "    plt.show()"
      ],
      "execution_count": 0,
      "outputs": []
    },
    {
      "cell_type": "markdown",
      "metadata": {
        "id": "Bkt2h0X6SFmR",
        "colab_type": "text"
      },
      "source": [
        "Code for generating the 2D points"
      ]
    },
    {
      "cell_type": "code",
      "metadata": {
        "id": "14tvkKCyMwYD",
        "colab_type": "code",
        "outputId": "6bfaafdf-8053-4432-fc44-2cbf2a458e4e",
        "colab": {
          "base_uri": "https://localhost:8080/",
          "height": 85
        }
      },
      "source": [
        "#Data generation (2D points)\n",
        "w_source = torch.tensor([2., -3.], dtype=torch.float).view(-1,1)\n",
        "b_source  = torch.tensor([1.], dtype=torch.float)\n",
        "\n",
        "x = torch.empty(30, 2).uniform_(0, 1) # input of the regression model\n",
        "\n",
        "print(x.shape)\n",
        "print(w_source.shape)\n",
        "print(b_source.shape)\n",
        "\n",
        "y = torch.matmul(x,w_source)+b_source # output of the regression model\n",
        "print(y.shape)"
      ],
      "execution_count": 43,
      "outputs": [
        {
          "output_type": "stream",
          "text": [
            "torch.Size([30, 2])\n",
            "torch.Size([2, 1])\n",
            "torch.Size([1])\n",
            "torch.Size([30, 1])\n"
          ],
          "name": "stdout"
        }
      ]
    },
    {
      "cell_type": "markdown",
      "metadata": {
        "id": "KW6YMS6tSMVr",
        "colab_type": "text"
      },
      "source": [
        "Plot the dataset"
      ]
    },
    {
      "cell_type": "code",
      "metadata": {
        "id": "rMRbqdZaRjCz",
        "colab_type": "code",
        "outputId": "3c4945ad-e4bb-46c7-a2b7-0af47db0c23b",
        "colab": {
          "base_uri": "https://localhost:8080/",
          "height": 247
        }
      },
      "source": [
        "plot_views(x.numpy(), y.numpy(), w_source.numpy(), b_source.numpy())"
      ],
      "execution_count": 44,
      "outputs": [
        {
          "output_type": "display_data",
          "data": {
            "image/png": "[encoded data removed]",
            "text/plain": [
              "<Figure size 288x216 with 1 Axes>"
            ]
          },
          "metadata": {
            "tags": []
          }
        }
      ]
    },
    {
      "cell_type": "code",
      "metadata": {
        "id": "bsGaEFPRiduc",
        "colab_type": "code",
        "outputId": "bd52be60-1a12-4199-de76-1b82e43e2e12",
        "colab": {
          "base_uri": "https://localhost:8080/",
          "height": 85
        }
      },
      "source": [
        "# randomly initialize learnable weights and bias\n",
        "w_t_init = torch.empty(2, 1).uniform_(-1, 1) \n",
        "b_t_init = torch.empty(1, 1).uniform_(-1, 1)\n",
        "\n",
        "print(\"Initial values of the parameters:\")\n",
        "print(w_t_init) \n",
        "print(b_t_init)\n",
        "\n"
      ],
      "execution_count": 45,
      "outputs": [
        {
          "output_type": "stream",
          "text": [
            "Initial values of the parameters:\n",
            "tensor([[ 0.8165],\n",
            "        [-0.8969]])\n",
            "tensor([[-0.6852]])\n"
          ],
          "name": "stdout"
        }
      ]
    },
    {
      "cell_type": "markdown",
      "metadata": {
        "id": "y2GD_KIBUTgS",
        "colab_type": "text"
      },
      "source": [
        "### Question: calculate the gradient of the loss and code it."
      ]
    },
    {
      "cell_type": "code",
      "metadata": {
        "id": "xSwsgVkpPE2i",
        "colab_type": "code",
        "colab": {}
      },
      "source": [
        "# our model forward pass\n",
        "def forward_t(x):\n",
        "    return x.mm(w_t)+b_t\n",
        "\n",
        "# Loss function\n",
        "def loss_t(x, y):\n",
        "    y_pred = forward_t(x)\n",
        "    return (y_pred - y).pow(2).sum()\n",
        "\n",
        "# compute gradient\n",
        "def gradient_t(x, y):  # d_loss/d_w, d_loss/d_c\n",
        "    # complete the return\n",
        "    d_loss_d_w1 = 0 \n",
        "    d_loss_d_w2 = 0\n",
        "    d_loss_d_b = 0\n",
        "    y_pred = forward_t(x)\n",
        "    for k in range(29): \n",
        "      d_loss_d_w1 += -2*x[k,0]*(y[k] - y_pred[k])\n",
        "      d_loss_d_w2 += -2*x[k,1]*(y[k] - y_pred[k])\n",
        "      d_loss_d_b += -2 * (y[k] - y_pred[k])\n",
        "\n",
        "    d_w = torch.empty(2, 1)\n",
        "    d_b = torch.empty(1)\n",
        "    d_w[0,0] = d_loss_d_w1\n",
        "    d_w[1,0] = d_loss_d_w2\n",
        "    d_b[0] = d_loss_d_b\n",
        "    return (d_w, d_b )\n",
        "\n"
      ],
      "execution_count": 0,
      "outputs": []
    },
    {
      "cell_type": "markdown",
      "metadata": {
        "id": "7x8wNpUISp88",
        "colab_type": "text"
      },
      "source": [
        "Main loop for computing the estimate (gradient descent)"
      ]
    },
    {
      "cell_type": "markdown",
      "metadata": {
        "colab_type": "text",
        "id": "pAAxsXCqUSuR"
      },
      "source": [
        "### Question: code the gradient descent algorithm within the main loop."
      ]
    },
    {
      "cell_type": "code",
      "metadata": {
        "id": "zmh-_IHaidxp",
        "colab_type": "code",
        "outputId": "1b83b437-39cd-40a6-e572-cd15904ec55b",
        "colab": {
          "base_uri": "https://localhost:8080/",
          "height": 221
        }
      },
      "source": [
        "#learning_rate = 1e-2\n",
        "learning_rate = 1e-2\n",
        "\n",
        "w_t = w_t_init.clone()\n",
        "b_t = b_t_init.clone()\n",
        "\n",
        "print (w_t.shape)\n",
        "print(b_t.shape)\n",
        "for epoch in range(10):\n",
        "    l = loss_t(x,y)\n",
        "    grad_w, grad_b = gradient_t(x,y)\n",
        "    # Complete the two following equalities\n",
        "    w_t = w_t - learning_rate * grad_w\n",
        "    b_t = b_t - learning_rate * grad_b \n",
        "    print(\"progress:\", \"epoch:\", epoch, \"loss\",l)"
      ],
      "execution_count": 68,
      "outputs": [
        {
          "output_type": "stream",
          "text": [
            "torch.Size([2, 1])\n",
            "torch.Size([1, 1])\n",
            "progress: epoch: 0 loss tensor(63.3672)\n",
            "progress: epoch: 1 loss tensor(19.5507)\n",
            "progress: epoch: 2 loss tensor(16.9328)\n",
            "progress: epoch: 3 loss tensor(15.0438)\n",
            "progress: epoch: 4 loss tensor(13.3637)\n",
            "progress: epoch: 5 loss tensor(11.8858)\n",
            "progress: epoch: 6 loss tensor(10.5878)\n",
            "progress: epoch: 7 loss tensor(9.4471)\n",
            "progress: epoch: 8 loss tensor(8.4436)\n",
            "progress: epoch: 9 loss tensor(7.5598)\n"
          ],
          "name": "stdout"
        }
      ]
    },
    {
      "cell_type": "code",
      "metadata": {
        "id": "87XspCGIid0t",
        "colab_type": "code",
        "outputId": "d9ed7415-4c9f-4b9a-8687-743168f557ed",
        "colab": {
          "base_uri": "https://localhost:8080/",
          "height": 85
        }
      },
      "source": [
        "# After training\n",
        "print(\"Estimation of the parameters:\")\n",
        "print(w_t)\n",
        "print(b_t)"
      ],
      "execution_count": 63,
      "outputs": [
        {
          "output_type": "stream",
          "text": [
            "Estimation of the parameters:\n",
            "tensor([[ 1.8542],\n",
            "        [-1.4611]])\n",
            "tensor([[0.3008]])\n"
          ],
          "name": "stdout"
        }
      ]
    },
    {
      "cell_type": "markdown",
      "metadata": {
        "id": "sceg1L15TqSy",
        "colab_type": "text"
      },
      "source": [
        "### Question: Test a higger learning rate (e.g., learning_rate = 1). Explain what you observe."
      ]
    },
    {
      "cell_type": "markdown",
      "metadata": {
        "id": "lW7ap0NmznVn",
        "colab_type": "text"
      },
      "source": [
        "The algorithm diverges. We see an increase of the loss function."
      ]
    },
    {
      "cell_type": "markdown",
      "metadata": {
        "id": "gqWJFYZSTX_m",
        "colab_type": "text"
      },
      "source": [
        "### Question: How to improve the quality of the estimate?"
      ]
    },
    {
      "cell_type": "markdown",
      "metadata": {
        "id": "ygTRfNaK0VIY",
        "colab_type": "text"
      },
      "source": [
        "Increase the number of iteration "
      ]
    },
    {
      "cell_type": "markdown",
      "metadata": {
        "id": "5i9Xrq1Vz0VH",
        "colab_type": "text"
      },
      "source": [
        ""
      ]
    }
  ]
}